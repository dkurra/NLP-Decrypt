{
 "cells": [
  {
   "cell_type": "code",
   "execution_count": 1,
   "metadata": {},
   "outputs": [
    {
     "name": "stderr",
     "output_type": "stream",
     "text": [
      "Using TensorFlow backend.\n"
     ]
    }
   ],
   "source": [
    "from __future__ import print_function\n",
    "\n",
    "import numpy as np\n",
    "\n",
    "from faker import Faker\n",
    "import random\n",
    "from tqdm import tqdm\n",
    "from babel.dates import format_date\n",
    "\n",
    "import matplotlib.pyplot as plt\n",
    "\n",
    "# %matplotlib inline\n",
    "\n",
    "import json\n",
    "import pickle\n",
    "import os\n",
    "from model import DeCryptModel\n",
    "from decrypt_utils import *\n",
    "from cipher_take_home import *\n",
    "from sklearn.model_selection import train_test_split\n",
    "\n",
    "\n",
    "import matplotlib.pyplot as plt"
   ]
  },
  {
   "cell_type": "code",
   "execution_count": 3,
   "metadata": {},
   "outputs": [
    {
     "name": "stderr",
     "output_type": "stream",
     "text": [
      "100%|██████████| 15728/15728 [00:00<00:00, 509413.38it/s]\n"
     ]
    }
   ],
   "source": [
    "plain, cipher = generate_data(1 << 14)\n",
    "\n",
    "X_train, X_test, y_train, y_test = train_test_split(cipher, plain, test_size=0.04, random_state=42)\n",
    "m = len(X_train)\n",
    "Tx = 42\n",
    "X_one_hot, Y_one_hot, vocab, inv_vocab = prepare_dataset(X_train, y_train, Tx)\n",
    "\n",
    "model = DeCryptModel(Xoh=X_one_hot, Yoh=Y_one_hot, Tx=Tx, m=m)"
   ]
  },
  {
   "cell_type": "markdown",
   "metadata": {},
   "source": [
    "### Building model from scratch"
   ]
  },
  {
   "cell_type": "code",
   "execution_count": null,
   "metadata": {},
   "outputs": [
    {
     "name": "stdout",
     "output_type": "stream",
     "text": [
      "WARNING:tensorflow:From /Users/dkurra/miniconda3/lib/python3.7/site-packages/tensorflow/python/framework/op_def_library.py:263: colocate_with (from tensorflow.python.framework.ops) is deprecated and will be removed in a future version.\n",
      "Instructions for updating:\n",
      "Colocations handled automatically by placer.\n",
      "WARNING:tensorflow:From /Users/dkurra/miniconda3/lib/python3.7/site-packages/tensorflow/python/ops/math_ops.py:3066: to_int32 (from tensorflow.python.ops.math_ops) is deprecated and will be removed in a future version.\n",
      "Instructions for updating:\n",
      "Use tf.cast instead.\n",
      "Epoch 1/30\n",
      "15728/15728 [==============================] - 33s 2ms/step - loss: 78.8799 - dense_1_loss: 0.0918 - dense_1_acc: 0.0848 - dense_1_acc_1: 0.2451 - dense_1_acc_2: 0.0921 - dense_1_acc_3: 0.1394 - dense_1_acc_4: 0.1796 - dense_1_acc_5: 0.1299 - dense_1_acc_6: 0.1485 - dense_1_acc_7: 0.1403 - dense_1_acc_8: 0.1337 - dense_1_acc_9: 0.1149 - dense_1_acc_10: 0.1293 - dense_1_acc_11: 0.1664 - dense_1_acc_12: 0.1600 - dense_1_acc_13: 0.1805 - dense_1_acc_14: 0.2077 - dense_1_acc_15: 0.1990 - dense_1_acc_16: 0.2261 - dense_1_acc_17: 0.2096 - dense_1_acc_18: 0.2586 - dense_1_acc_19: 0.3223 - dense_1_acc_20: 0.3274 - dense_1_acc_21: 0.3843 - dense_1_acc_22: 0.4159 - dense_1_acc_23: 0.4299 - dense_1_acc_24: 0.4737 - dense_1_acc_25: 0.4868 - dense_1_acc_26: 0.5689 - dense_1_acc_27: 0.5814 - dense_1_acc_28: 0.6311 - dense_1_acc_29: 0.6947 - dense_1_acc_30: 0.7479 - dense_1_acc_31: 0.8016 - dense_1_acc_32: 0.8583 - dense_1_acc_33: 0.9121 - dense_1_acc_34: 0.9585 - dense_1_acc_35: 0.9880 - dense_1_acc_36: 0.9936 - dense_1_acc_37: 0.9936 - dense_1_acc_38: 0.9936 - dense_1_acc_39: 0.9936 - dense_1_acc_40: 0.9936 - dense_1_acc_41: 0.9936\n",
      "Epoch 2/30\n",
      "15728/15728 [==============================] - 11s 704us/step - loss: 63.8239 - dense_1_loss: 1.0196e-06 - dense_1_acc: 0.2279 - dense_1_acc_1: 0.3746 - dense_1_acc_2: 0.1854 - dense_1_acc_3: 0.2602 - dense_1_acc_4: 0.4208 - dense_1_acc_5: 0.1086 - dense_1_acc_6: 0.3519 - dense_1_acc_7: 0.2516 - dense_1_acc_8: 0.2407 - dense_1_acc_9: 0.1619 - dense_1_acc_10: 0.2524 - dense_1_acc_11: 0.3642 - dense_1_acc_12: 0.2342 - dense_1_acc_13: 0.3884 - dense_1_acc_14: 0.4219 - dense_1_acc_15: 0.3665 - dense_1_acc_16: 0.3931 - dense_1_acc_17: 0.2974 - dense_1_acc_18: 0.3662 - dense_1_acc_19: 0.4808 - dense_1_acc_20: 0.4244 - dense_1_acc_21: 0.5409 - dense_1_acc_22: 0.5349 - dense_1_acc_23: 0.5294 - dense_1_acc_24: 0.5652 - dense_1_acc_25: 0.5026 - dense_1_acc_26: 0.6335 - dense_1_acc_27: 0.6185 - dense_1_acc_28: 0.6322 - dense_1_acc_29: 0.7146 - dense_1_acc_30: 0.7806 - dense_1_acc_31: 0.8081 - dense_1_acc_32: 0.8763 - dense_1_acc_33: 0.9321 - dense_1_acc_34: 0.9650 - dense_1_acc_35: 0.9955 - dense_1_acc_36: 0.9999 - dense_1_acc_37: 1.0000 - dense_1_acc_38: 1.0000 - dense_1_acc_39: 1.0000 - dense_1_acc_40: 1.0000 - dense_1_acc_41: 1.00002s - loss: 64.5961 - dense_1_loss: 1.1106e-06 - dense_1_acc: 0.2250 - dense_1_acc_1: 0.3577 - dense_1_acc_2: 0.1702 - dense_1_acc_3: 0.2352 - dense_1_acc_4: 0.4044 - dense_1_acc_5: 0.0987 - dense_1_acc_6: 0.3423 - dense_1_acc_7: 0.2277 - dense_1_acc_8: 0.2302 - dense_1_acc_9: 0.1397 - dense_1_acc_10: 0.2371 - dense_1_acc_11: 0.3573 - dense_1_acc_12: 0.2183 - dense_1_acc_13: 0.3834 - dense_1_acc_14: 0.4094 - dense_1_acc_15: 0.3631 - dense_1_acc_16: 0.3874 - dense_1_acc_17: 0.2909 - dense_1_acc_18: 0.3613 - dense_1_acc_19: 0.4820 - dense_1_acc_20: 0.4260 - dense_1_acc_21: 0.5327 - dense_1_acc_22: 0.5281 - dense_1_acc_23: 0.5219 - dense_1_acc_24: 0.5648 - dense_1_acc_25: 0.4969 - dense_1_acc_26: 0.6333 - dense_1_acc_27: 0.6160 - dense_1_acc_28: 0.6302 - dense_1_acc_29: 0.7144 - dense_1_acc_30: 0.7870 - dense_1_acc_31: 0.8126 - dense_1_acc_32: 0.8788 - dense_1_acc_33: 0.9323 - dense_1_acc_34: 0.9643 - dense_1_acc_35: 0.9954 - dense_1_acc_36: 0.9999 - dense_1_acc_37: 1.0000 - dense_1_acc_38: 1.0000 - dense_1_acc_39: 1.0000 - dense_1_acc_4\n",
      "Epoch 3/30\n",
      "15728/15728 [==============================] - 11s 718us/step - loss: 55.8042 - dense_1_loss: 6.1850e-06 - dense_1_acc: 0.2661 - dense_1_acc_1: 0.5506 - dense_1_acc_2: 0.3761 - dense_1_acc_3: 0.4495 - dense_1_acc_4: 0.6050 - dense_1_acc_5: 0.2517 - dense_1_acc_6: 0.4037 - dense_1_acc_7: 0.4745 - dense_1_acc_8: 0.3615 - dense_1_acc_9: 0.3164 - dense_1_acc_10: 0.4270 - dense_1_acc_11: 0.4095 - dense_1_acc_12: 0.4096 - dense_1_acc_13: 0.4449 - dense_1_acc_14: 0.5292 - dense_1_acc_15: 0.3956 - dense_1_acc_16: 0.4955 - dense_1_acc_17: 0.3729 - dense_1_acc_18: 0.4343 - dense_1_acc_19: 0.5086 - dense_1_acc_20: 0.4406 - dense_1_acc_21: 0.6062 - dense_1_acc_22: 0.6153 - dense_1_acc_23: 0.5666 - dense_1_acc_24: 0.5699 - dense_1_acc_25: 0.5658 - dense_1_acc_26: 0.6364 - dense_1_acc_27: 0.6305 - dense_1_acc_28: 0.6516 - dense_1_acc_29: 0.7389 - dense_1_acc_30: 0.7883 - dense_1_acc_31: 0.8009 - dense_1_acc_32: 0.8793 - dense_1_acc_33: 0.9322 - dense_1_acc_34: 0.9660 - dense_1_acc_35: 0.9954 - dense_1_acc_36: 0.9999 - dense_1_acc_37: 1.0000 - dense_1_acc_38: 1.0000 - dense_1_acc_39: 1.0000 - dense_1_acc_40: 1.0000 - dense_1_acc_41: 1.0000\n",
      "Epoch 4/30\n",
      "13100/15728 [=======================>......] - ETA: 1s - loss: 48.9881 - dense_1_loss: 6.8595e-05 - dense_1_acc: 0.2928 - dense_1_acc_1: 0.6286 - dense_1_acc_2: 0.5624 - dense_1_acc_3: 0.5292 - dense_1_acc_4: 0.6796 - dense_1_acc_5: 0.3710 - dense_1_acc_6: 0.4664 - dense_1_acc_7: 0.5751 - dense_1_acc_8: 0.4216 - dense_1_acc_9: 0.4304 - dense_1_acc_10: 0.5437 - dense_1_acc_11: 0.4847 - dense_1_acc_12: 0.5631 - dense_1_acc_13: 0.5203 - dense_1_acc_14: 0.5892 - dense_1_acc_15: 0.5047 - dense_1_acc_16: 0.5473 - dense_1_acc_17: 0.4789 - dense_1_acc_18: 0.4737 - dense_1_acc_19: 0.5657 - dense_1_acc_20: 0.4964 - dense_1_acc_21: 0.6577 - dense_1_acc_22: 0.6700 - dense_1_acc_23: 0.5778 - dense_1_acc_24: 0.6066 - dense_1_acc_25: 0.6380 - dense_1_acc_26: 0.6769 - dense_1_acc_27: 0.7042 - dense_1_acc_28: 0.7003 - dense_1_acc_29: 0.7589 - dense_1_acc_30: 0.8014 - dense_1_acc_31: 0.8015 - dense_1_acc_32: 0.8843 - dense_1_acc_33: 0.9282 - dense_1_acc_34: 0.9730 - dense_1_acc_35: 0.9952 - dense_1_acc_36: 0.9999 - dense_1_acc_37: 1.0000 - dense_1_acc_38: 1.0000 - dense_1_acc_39: 1.0000 - dense_1_acc_40: 1.0000 - dense_1_acc_41: 1.0000"
     ]
    }
   ],
   "source": [
    "model.train(epochs=30)"
   ]
  },
  {
   "cell_type": "code",
   "execution_count": 4,
   "metadata": {},
   "outputs": [
    {
     "name": "stdout",
     "output_type": "stream",
     "text": [
      "0.7957317073170732\n"
     ]
    }
   ],
   "source": [
    "print('Decrypting holdout (test) samples ....')\n",
    "predicts_test = model.predict(X_test, vocab, inv_vocab)\n",
    "print(\"--- Test Sample score %s ---\" % score(predicts_test, y_test))"
   ]
  },
  {
   "cell_type": "code",
   "execution_count": 5,
   "metadata": {},
   "outputs": [
    {
     "name": "stdout",
     "output_type": "stream",
     "text": [
      "0.79620361328125\n"
     ]
    }
   ],
   "source": [
    "print('Decrypting all samples ....')\n",
    "predicts = model.predict(cipher, vocab, inv_vocab)\n",
    "print(\"--- Entire dataset score %s ---\" % score(predicts, plain))"
   ]
  },
  {
   "cell_type": "markdown",
   "metadata": {},
   "source": [
    "### Using Pretrained model"
   ]
  },
  {
   "cell_type": "code",
   "execution_count": null,
   "metadata": {},
   "outputs": [],
   "source": [
    "model.load_model()"
   ]
  },
  {
   "cell_type": "code",
   "execution_count": null,
   "metadata": {},
   "outputs": [],
   "source": [
    "print('Decrypting holdout (test) samples ....')\n",
    "predicts_test = model.predict(X_test, vocab, inv_vocab)\n",
    "print(\"--- Test Sample score %s ---\" % score(predicts_test, y_test))\n",
    "\n",
    "print('Decrypting all samples ....')\n",
    "predicts = model.predict(cipher, vocab, inv_vocab)\n",
    "print(\"--- Entire dataset score %s ---\" % score(predicts, plain))"
   ]
  }
 ],
 "metadata": {
  "kernelspec": {
   "display_name": "Python 3",
   "language": "python",
   "name": "python3"
  },
  "language_info": {
   "codemirror_mode": {
    "name": "ipython",
    "version": 3
   },
   "file_extension": ".py",
   "mimetype": "text/x-python",
   "name": "python",
   "nbconvert_exporter": "python",
   "pygments_lexer": "ipython3",
   "version": "3.7.3"
  }
 },
 "nbformat": 4,
 "nbformat_minor": 2
}
