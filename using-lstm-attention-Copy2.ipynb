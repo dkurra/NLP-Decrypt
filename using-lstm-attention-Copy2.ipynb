{
 "cells": [
  {
   "cell_type": "code",
   "execution_count": 1,
   "metadata": {},
   "outputs": [
    {
     "name": "stderr",
     "output_type": "stream",
     "text": [
      "Using TensorFlow backend.\n"
     ]
    }
   ],
   "source": [
    "from __future__ import print_function\n",
    "\n",
    "from keras.layers import Bidirectional, Concatenate, Permute, Dot, Input, LSTM, Multiply\n",
    "from keras.layers import RepeatVector, Dense, Activation, Lambda\n",
    "from keras.optimizers import Adam\n",
    "from keras.utils import to_categorical\n",
    "from keras.models import load_model, Model\n",
    "import keras.backend as K\n",
    "import numpy as np\n",
    "\n",
    "from faker import Faker\n",
    "import random\n",
    "from tqdm import tqdm\n",
    "from babel.dates import format_date\n",
    "from nmt_utils import *\n",
    "import matplotlib.pyplot as plt\n",
    "\n",
    "# %matplotlib inline\n",
    "\n",
    "import json\n",
    "import pickle\n",
    "import os\n",
    "\n",
    "from keras.models import Model\n",
    "from keras.layers import Input, LSTM, Dense\n",
    "import numpy as np\n",
    "\n",
    "from keras.layers import Bidirectional, Concatenate, Permute, Dot, Input, LSTM, Multiply\n",
    "from keras.layers import RepeatVector, Dense, Activation, Lambda\n",
    "from keras.optimizers import Adam\n",
    "from keras.utils import to_categorical\n",
    "from keras.models import load_model, Model\n",
    "import keras.backend as K\n",
    "import numpy as np\n",
    "from keras.callbacks import ModelCheckpoint\n",
    "from keras.models import Model, load_model, Sequential\n",
    "from keras.layers import Dense, Activation, Dropout, Input, Masking, TimeDistributed, LSTM, Conv1D\n",
    "from keras.layers import GRU, Bidirectional, BatchNormalization, Reshape\n",
    "from keras.optimizers import Adam\n",
    "from faker import Faker\n",
    "import random\n",
    "\n",
    "from typing import List, Tuple\n",
    "from enigma.machine import EnigmaMachine\n",
    "from faker import Faker\n",
    "import re\n",
    "from model import DeCryptModel\n",
    "from nmt_utils import *\n",
    "from cipher_take_home import *\n",
    "from sklearn.model_selection import train_test_split\n",
    "\n",
    "\n",
    "import matplotlib.pyplot as plt"
   ]
  },
  {
   "cell_type": "code",
   "execution_count": 2,
   "metadata": {},
   "outputs": [
    {
     "name": "stderr",
     "output_type": "stream",
     "text": [
      "100%|██████████| 15728/15728 [00:00<00:00, 473194.27it/s]\n"
     ]
    },
    {
     "name": "stdout",
     "output_type": "stream",
     "text": [
      "WARNING:tensorflow:From /Users/dkurra/miniconda3/lib/python3.7/site-packages/tensorflow/python/framework/op_def_library.py:263: colocate_with (from tensorflow.python.framework.ops) is deprecated and will be removed in a future version.\n",
      "Instructions for updating:\n",
      "Colocations handled automatically by placer.\n",
      "WARNING:tensorflow:From /Users/dkurra/miniconda3/lib/python3.7/site-packages/tensorflow/python/ops/math_ops.py:3066: to_int32 (from tensorflow.python.ops.math_ops) is deprecated and will be removed in a future version.\n",
      "Instructions for updating:\n",
      "Use tf.cast instead.\n",
      "Epoch 1/20\n",
      "15728/15728 [==============================] - 31s 2ms/step - loss: 75.4792 - dense_1_loss: 0.0723 - dense_1_acc: 0.1668 - dense_1_acc_1: 0.3350 - dense_1_acc_2: 0.1106 - dense_1_acc_3: 0.1590 - dense_1_acc_4: 0.2201 - dense_1_acc_5: 0.1089 - dense_1_acc_6: 0.1943 - dense_1_acc_7: 0.1624 - dense_1_acc_8: 0.1499 - dense_1_acc_9: 0.1029 - dense_1_acc_10: 0.1237 - dense_1_acc_11: 0.2181 - dense_1_acc_12: 0.1494 - dense_1_acc_13: 0.2416 - dense_1_acc_14: 0.2792 - dense_1_acc_15: 0.2461 - dense_1_acc_16: 0.2929 - dense_1_acc_17: 0.2553 - dense_1_acc_18: 0.2728 - dense_1_acc_19: 0.3730 - dense_1_acc_20: 0.3583 - dense_1_acc_21: 0.4329 - dense_1_acc_22: 0.4431 - dense_1_acc_23: 0.4530 - dense_1_acc_24: 0.5034 - dense_1_acc_25: 0.4958 - dense_1_acc_26: 0.5874 - dense_1_acc_27: 0.6101 - dense_1_acc_28: 0.6359 - dense_1_acc_29: 0.7076 - dense_1_acc_30: 0.7642 - dense_1_acc_31: 0.8060 - dense_1_acc_32: 0.8670 - dense_1_acc_33: 0.9176 - dense_1_acc_34: 0.9593 - dense_1_acc_35: 0.9896 - dense_1_acc_36: 0.9930 - dense_1_acc_37: 0.9935 - dense_1_acc_38: 0.9936 - dense_1_acc_39: 0.9936 - dense_1_acc_40: 0.9936 - dense_1_acc_41: 0.9936\n",
      "Epoch 2/20\n",
      "15728/15728 [==============================] - 11s 685us/step - loss: 60.4777 - dense_1_loss: 2.3002e-06 - dense_1_acc: 0.2447 - dense_1_acc_1: 0.3890 - dense_1_acc_2: 0.2548 - dense_1_acc_3: 0.3177 - dense_1_acc_4: 0.5136 - dense_1_acc_5: 0.1794 - dense_1_acc_6: 0.3598 - dense_1_acc_7: 0.3585 - dense_1_acc_8: 0.2568 - dense_1_acc_9: 0.2370 - dense_1_acc_10: 0.3070 - dense_1_acc_11: 0.4123 - dense_1_acc_12: 0.2863 - dense_1_acc_13: 0.4008 - dense_1_acc_14: 0.4568 - dense_1_acc_15: 0.3711 - dense_1_acc_16: 0.3908 - dense_1_acc_17: 0.3387 - dense_1_acc_18: 0.3812 - dense_1_acc_19: 0.5107 - dense_1_acc_20: 0.4336 - dense_1_acc_21: 0.6027 - dense_1_acc_22: 0.5661 - dense_1_acc_23: 0.5436 - dense_1_acc_24: 0.5671 - dense_1_acc_25: 0.5381 - dense_1_acc_26: 0.6494 - dense_1_acc_27: 0.6581 - dense_1_acc_28: 0.6462 - dense_1_acc_29: 0.7326 - dense_1_acc_30: 0.7923 - dense_1_acc_31: 0.8056 - dense_1_acc_32: 0.8848 - dense_1_acc_33: 0.9351 - dense_1_acc_34: 0.9667 - dense_1_acc_35: 0.9969 - dense_1_acc_36: 0.9999 - dense_1_acc_37: 1.0000 - dense_1_acc_38: 1.0000 - dense_1_acc_39: 1.0000 - dense_1_acc_40: 1.0000 - dense_1_acc_41: 1.0000\n",
      "Epoch 3/20\n",
      "15728/15728 [==============================] - 11s 722us/step - loss: 51.2990 - dense_1_loss: 1.1560e-05 - dense_1_acc: 0.2818 - dense_1_acc_1: 0.5734 - dense_1_acc_2: 0.4940 - dense_1_acc_3: 0.5417 - dense_1_acc_4: 0.6626 - dense_1_acc_5: 0.3971 - dense_1_acc_6: 0.4524 - dense_1_acc_7: 0.5366 - dense_1_acc_8: 0.3783 - dense_1_acc_9: 0.5106 - dense_1_acc_10: 0.4530 - dense_1_acc_11: 0.5093 - dense_1_acc_12: 0.4711 - dense_1_acc_13: 0.4573 - dense_1_acc_14: 0.5741 - dense_1_acc_15: 0.4315 - dense_1_acc_16: 0.5161 - dense_1_acc_17: 0.4645 - dense_1_acc_18: 0.4507 - dense_1_acc_19: 0.5709 - dense_1_acc_20: 0.5149 - dense_1_acc_21: 0.6721 - dense_1_acc_22: 0.6486 - dense_1_acc_23: 0.5828 - dense_1_acc_24: 0.5984 - dense_1_acc_25: 0.6196 - dense_1_acc_26: 0.6678 - dense_1_acc_27: 0.7089 - dense_1_acc_28: 0.7342 - dense_1_acc_29: 0.7736 - dense_1_acc_30: 0.7924 - dense_1_acc_31: 0.8059 - dense_1_acc_32: 0.8958 - dense_1_acc_33: 0.9385 - dense_1_acc_34: 0.9722 - dense_1_acc_35: 0.9961 - dense_1_acc_36: 0.9999 - dense_1_acc_37: 1.0000 - dense_1_acc_38: 1.0000 - dense_1_acc_39: 1.0000 - dense_1_acc_40: 1.0000 - dense_1_acc_41: 1.00005s - loss: 53.2722 - dense_1_loss: 8.2062e-06 - dense_1_acc: 0.2823 - dense_1_acc_1: 0.5513 - dense_1_acc_2: 0.4341 - dense_1_acc_3: 0.5185 - dense_1_acc_4: 0.6545 - dense_1_acc_5: 0.3598 - dense_1_acc_6: 0.4328 - dense_1_acc_7: 0.5209 - dense_1_acc_8: 0.3388 - dense_1_acc_9: 0.4687 - dense_1_acc_10: 0.4252 - dense_1_acc_11: 0.4937 - dense_1_acc_12: 0.4173 - dense_1_acc_13: 0.4363 - dense_1_acc_14: 0.5526 - dense_1_acc_15: 0.4138 - dense_1_acc_16: 0.4957 - dense_1_acc_17: 0.4323 - dense_1_acc_18: 0.4333 - dense_1_acc_19: 0.5465 - dense_1_acc_20: 0.4885 - dense_1_acc_21: 0.6536 - dense_1_acc_22: 0.6386 - dense_1_acc_23: 0.5792 - dense_1_acc_24: 0.5929 - dense_1_acc_25: 0.6033 - dense_1_acc_26: 0.6594 - dense_1_acc_27: 0.6913 - dense_1_acc_28: 0.7165 - dense_1_acc_29: 0.7662 - dense_1_acc_30: 0.7863 - dense_1_acc_31: 0.8053 - dense_1_acc_32: 0.8971 - dense_1_acc_33: 0.9394 - dense_1_acc_34: 0.9736 - dense_1_acc_35: 0.9971 - dense_1_acc_36: 0.9999 - dense_1_acc_37: 1.0000 - dense_1_acc_38: 1.0000 - \n",
      "Epoch 4/20\n",
      "15728/15728 [==============================] - 12s 766us/step - loss: 43.6809 - dense_1_loss: 2.2112e-05 - dense_1_acc: 0.2844 - dense_1_acc_1: 0.6349 - dense_1_acc_2: 0.6243 - dense_1_acc_3: 0.6200 - dense_1_acc_4: 0.7254 - dense_1_acc_5: 0.5334 - dense_1_acc_6: 0.5398 - dense_1_acc_7: 0.6110 - dense_1_acc_8: 0.5485 - dense_1_acc_9: 0.6526 - dense_1_acc_10: 0.6073 - dense_1_acc_11: 0.5565 - dense_1_acc_12: 0.6377 - dense_1_acc_13: 0.5522 - dense_1_acc_14: 0.6329 - dense_1_acc_15: 0.5716 - dense_1_acc_16: 0.6025 - dense_1_acc_17: 0.6172 - dense_1_acc_18: 0.5081 - dense_1_acc_19: 0.6339 - dense_1_acc_20: 0.6019 - dense_1_acc_21: 0.7257 - dense_1_acc_22: 0.6829 - dense_1_acc_23: 0.6111 - dense_1_acc_24: 0.6218 - dense_1_acc_25: 0.6786 - dense_1_acc_26: 0.7122 - dense_1_acc_27: 0.7671 - dense_1_acc_28: 0.7613 - dense_1_acc_29: 0.7897 - dense_1_acc_30: 0.8046 - dense_1_acc_31: 0.8138 - dense_1_acc_32: 0.9076 - dense_1_acc_33: 0.9351 - dense_1_acc_34: 0.9739 - dense_1_acc_35: 0.9955 - dense_1_acc_36: 0.9999 - dense_1_acc_37: 1.0000 - dense_1_acc_38: 1.0000 - dense_1_acc_39: 1.0000 - dense_1_acc_40: 1.0000 - dense_1_acc_41: 1.0000\n",
      "Epoch 5/20\n"
     ]
    },
    {
     "name": "stdout",
     "output_type": "stream",
     "text": [
      "15728/15728 [==============================] - 11s 693us/step - loss: 37.8059 - dense_1_loss: 2.2759e-05 - dense_1_acc: 0.3519 - dense_1_acc_1: 0.6659 - dense_1_acc_2: 0.6552 - dense_1_acc_3: 0.6860 - dense_1_acc_4: 0.7927 - dense_1_acc_5: 0.6471 - dense_1_acc_6: 0.6539 - dense_1_acc_7: 0.6548 - dense_1_acc_8: 0.6850 - dense_1_acc_9: 0.7072 - dense_1_acc_10: 0.7223 - dense_1_acc_11: 0.6061 - dense_1_acc_12: 0.7232 - dense_1_acc_13: 0.6737 - dense_1_acc_14: 0.6925 - dense_1_acc_15: 0.6937 - dense_1_acc_16: 0.6813 - dense_1_acc_17: 0.7461 - dense_1_acc_18: 0.5938 - dense_1_acc_19: 0.6928 - dense_1_acc_20: 0.6856 - dense_1_acc_21: 0.7483 - dense_1_acc_22: 0.7152 - dense_1_acc_23: 0.6483 - dense_1_acc_24: 0.6505 - dense_1_acc_25: 0.7222 - dense_1_acc_26: 0.7433 - dense_1_acc_27: 0.7800 - dense_1_acc_28: 0.7695 - dense_1_acc_29: 0.7940 - dense_1_acc_30: 0.8250 - dense_1_acc_31: 0.8178 - dense_1_acc_32: 0.9122 - dense_1_acc_33: 0.9341 - dense_1_acc_34: 0.9756 - dense_1_acc_35: 0.9956 - dense_1_acc_36: 0.9999 - dense_1_acc_37: 1.0000 - dense_1_acc_38: 1.0000 - dense_1_acc_39: 1.0000 - dense_1_acc_40: 1.0000 - dense_1_acc_41: 1.00008s - loss: 39.2957 - dense_1_loss: 2.5770e-05 - dense_1_acc: 0.3418 - dense_1_acc_1: 0.6562 - dense_1_acc_2: 0.6533 - dense_1_acc_3: 0.6687 - dense_1_acc_4: 0.7771 - dense_1_acc_5: 0.6042 - dense_1_acc_6: 0.6227 - dense_1_acc_7: 0.6478 - dense_1_acc_8: 0.6344 - dense_1_acc_9: 0.6851 - dense_1_acc_10: 0.7000 - dense_1_acc_11: 0.5849 - dense_1_acc_12: 0.6987 - dense_1_acc_13: 0.6427 - dense_1_acc_14: 0.6764 - dense_1_acc_15: 0.6784 - dense_1_acc_16: 0.6731 - dense_1_acc_17: 0.7211 - dense_1_acc_18: 0.5742 - dense_1_acc_19: 0.6611 - dense_1_acc_20: 0.6582 - dense_1_acc_21: 0.7467 - dense_1_acc_22: 0.7051 - dense_1_acc_23: 0.6464 - dense_1_acc_24: 0.6482 - dense_1_acc_25: 0.7144 - dense_1_acc_26: 0.7393 - dense_1_acc_27: 0.7818 - dense_1_acc_28: 0.7760 - dense_1_acc_29: 0.7953 - dense_1_acc_30: 0.8318 - dense_1_acc_31: 0.8171 - dense_1_acc_32: 0.9113 - dense_1_acc_33: 0.9376 - dense_1_acc_34: 0.9756 - dense_1_acc_35: 0.9960 - dense_1_acc_36: 1.0000 - dense_1_acc_37: 1.0000 - dense_1_acc_38: 1.0000 - dense_1_a - ETA: 3s - loss: 38.5714 - dense_1_loss: 2.3504e-05 - dense_1_acc: 0.3539 - dense_1_acc_1: 0.6618 - dense_1_acc_2: 0.6557 - dense_1_acc_3: 0.6804 - dense_1_acc_4: 0.7891 - dense_1_acc_5: 0.6327 - dense_1_acc_6: 0.6396 - dense_1_acc_7: 0.6485 - dense_1_acc_8: 0.6671 - dense_1_acc_9: 0.7013 - dense_1_acc_10: 0.7119 - dense_1_acc_11: 0.5970 - dense_1_acc_12: 0.7169 - dense_1_acc_13: 0.6548 - dense_1_acc_14: 0.6868 - dense_1_acc_15: 0.6814 - dense_1_acc_16: 0.6706 - dense_1_acc_17: 0.7372 - dense_1_acc_18: 0.5800 - dense_1_acc_19: 0.6821 - dense_1_acc_20: 0.6713 - dense_1_acc_21: 0.7450 - dense_1_acc_22: 0.7094 - dense_1_acc_23: 0.6414 - dense_1_acc_24: 0.6394 - dense_1_acc_25: 0.7132 - dense_1_acc_26: 0.7411 - dense_1_acc_27: 0.7808 - dense_1_acc_28: 0.7701 - dense_1_acc_29: 0.7891 - dense_1_acc_30: 0.8223 - dense_1_acc_31: 0.8132 - dense_1_acc_32: 0.9118 - dense_1_acc_33: 0.9343 - dense_1_acc_34: 0.9740 - dense_1_acc_35: 0.9957 - dense_1_acc_36: 0.9998 - dense_1_acc_37: 1.0000 - dense_1_acc_38: 1.0000 - dense_1_acc_39: 1.0000 - dense_1_acc_40: 1.0000 - dense_1_acc_41: 1.0 - ETA: 3s - loss: 38.5095 - dense_1_loss: 2.3525e-05 - dense_1_acc: 0.3555 - dense_1_acc_1: 0.6633 - dense_1_acc_2: 0.6553 - dense_1_acc_3: 0.6805 - dense_1_acc_4: 0.7907 - dense_1_acc_5: 0.6324 - dense_1_acc_6: 0.6411 - dense_1_acc_7: 0.6490 - dense_1_acc_8: 0.6667 - dense_1_acc_9: 0.7014 - dense_1_acc_10: 0.7115 - dense_1_acc_11: 0.5973 - dense_1_acc_12: 0.7177 - dense_1_acc_13: 0.6560 - dense_1_acc_14: 0.6878 - dense_1_acc_15: 0.6825 - dense_1_acc_16: 0.6716 - dense_1_acc_17: 0.7378 - dense_1_acc_18: 0.5814 - dense_1_acc_19: 0.6832 - dense_1_acc_20: 0.6728 - dense_1_acc_21: 0.7455 - dense_1_acc_22: 0.7105 - dense_1_acc_23: 0.6420 - dense_1_acc_24: 0.6412 - dense_1_acc_25: 0.7147 - dense_1_acc_26: 0.7410 - dense_1_acc_27: 0.7820 - dense_1_acc_28: 0.7701 - dense_1_acc_29: 0.7907 - dense_1_acc_30: 0.8225 - dense_1_acc_31: 0.8133 - dense_1_acc_32: 0.9116 - dense_1_acc_33: 0.9342 - dense_1_acc_34: 0.9741 - dense_1_acc_35: 0.9957 - dense_1_acc_36: 0.9998 - dense_1_acc_37: 1.0000 - dense_1_acc_38: 1.0000 - dense_1_acc_39: 1.0000 - dense_1_acc - ETA: 0s - loss: 37.9108 - dense_1_loss: 2.2769e-05 - dense_1_acc: 0.3512 - dense_1_acc_1: 0.6653 - dense_1_acc_2: 0.6550 - dense_1_acc_3: 0.6839 - dense_1_acc_4: 0.7924 - dense_1_acc_5: 0.6436 - dense_1_acc_6: 0.6506 - dense_1_acc_7: 0.6540 - dense_1_acc_8: 0.6822 - dense_1_acc_9: 0.7063 - dense_1_acc_10: 0.7203 - dense_1_acc_11: 0.6041 - dense_1_acc_12: 0.7220 - dense_1_acc_13: 0.6685 - dense_1_acc_14: 0.6903 - dense_1_acc_15: 0.6911 - dense_1_acc_16: 0.6797 - dense_1_acc_17: 0.7441 - dense_1_acc_18: 0.5899 - dense_1_acc_19: 0.6912 - dense_1_acc_20: 0.6823 - dense_1_acc_21: 0.7486 - dense_1_acc_22: 0.7147 - dense_1_acc_23: 0.6493 - dense_1_acc_24: 0.6498 - dense_1_acc_25: 0.7223 - dense_1_acc_26: 0.7437 - dense_1_acc_27: 0.7810 - dense_1_acc_28: 0.7709 - dense_1_acc_29: 0.7943 - dense_1_acc_30: 0.8251 - dense_1_acc_31: 0.8176 - dense_1_acc_32: 0.9113 - dense_1_acc_33: 0.9340 - dense_1_acc_34: 0.9753 - dense_1_acc_35: 0.9956 - dense_1_acc_36: 0.9999 - dense_1_acc_37: 1.0000 - dense_1_acc_38: 1.0000 - dense_1_acc_39: 1.0000 - dense_1_acc_40: 1.0000 - dense_1_acc_\n",
      "Epoch 6/20\n"
     ]
    },
    {
     "name": "stdout",
     "output_type": "stream",
     "text": [
      "15728/15728 [==============================] - 11s 675us/step - loss: 33.3225 - dense_1_loss: 2.3778e-05 - dense_1_acc: 0.3576 - dense_1_acc_1: 0.6923 - dense_1_acc_2: 0.6826 - dense_1_acc_3: 0.7302 - dense_1_acc_4: 0.8273 - dense_1_acc_5: 0.7340 - dense_1_acc_6: 0.7249 - dense_1_acc_7: 0.7043 - dense_1_acc_8: 0.7505 - dense_1_acc_9: 0.7545 - dense_1_acc_10: 0.7867 - dense_1_acc_11: 0.6574 - dense_1_acc_12: 0.7674 - dense_1_acc_13: 0.7585 - dense_1_acc_14: 0.7414 - dense_1_acc_15: 0.7418 - dense_1_acc_16: 0.7234 - dense_1_acc_17: 0.7996 - dense_1_acc_18: 0.6801 - dense_1_acc_19: 0.7447 - dense_1_acc_20: 0.7607 - dense_1_acc_21: 0.7672 - dense_1_acc_22: 0.7501 - dense_1_acc_23: 0.6817 - dense_1_acc_24: 0.6904 - dense_1_acc_25: 0.7460 - dense_1_acc_26: 0.7644 - dense_1_acc_27: 0.7920 - dense_1_acc_28: 0.7722 - dense_1_acc_29: 0.8120 - dense_1_acc_30: 0.8447 - dense_1_acc_31: 0.8247 - dense_1_acc_32: 0.9119 - dense_1_acc_33: 0.9372 - dense_1_acc_34: 0.9765 - dense_1_acc_35: 0.9955 - dense_1_acc_36: 0.9999 - dense_1_acc_37: 1.0000 - dense_1_acc_38: 1.0000 - dense_1_acc_39: 1.0000 - dense_1_acc_40: 1.0000 - dense_1_acc_41: 1.00007s - loss: 34.6524 - dense_1_loss: 2.1592e-05 - dense_1_acc: 0.3566 - dense_1_acc_1: 0.6717 - dense_1_acc_2: 0.6791 - dense_1_acc_3: 0.7243 - dense_1_acc_4: 0.8187 - dense_1_acc_5: 0.7191 - dense_1_acc_6: 0.7013 - dense_1_acc_7: 0.6953 - dense_1_acc_8: 0.7391 - dense_1_acc_9: 0.7353 - dense_1_acc_10: 0.7634 - dense_1_acc_11: 0.6440 - dense_1_acc_12: 0.7523 - dense_1_acc_13: 0.7362 - dense_1_acc_14: 0.7255 - dense_1_acc_15: 0.7343 - dense_1_acc_16: 0.7081 - dense_1_acc_17: 0.7883 - dense_1_acc_18: 0.6570 - dense_1_acc_19: 0.7281 - dense_1_acc_20: 0.7277 - dense_1_acc_21: 0.7655 - dense_1_acc_22: 0.7330 - dense_1_acc_23: 0.6745 - dense_1_acc_24: 0.6685 - dense_1_acc_25: 0.7409 - dense_1_acc_26: 0.7591 - dense_1_acc_27: 0.7932 - dense_1_acc_28: 0.7689 - dense_1_acc_29: 0.8036 - dense_1_acc_30: 0.8389 - dense_1_acc_31: 0.8162 - dense_1_acc_32: 0.9096 - dense_1_acc_33: 0.9315 - dense_1_acc_34: 0.9747 - dense_1_acc_35: 0.9955 - dense_1_acc_36: 0.9996 - dense_1_acc_37: 1.0000 - dense_1_acc_38: 1.0000 - dense_1_acc_39: 1 - ETA: 3s - loss: 33.8533 - dense_1_loss: 2.3329e-05 - dense_1_acc: 0.3584 - dense_1_acc_1: 0.6836 - dense_1_acc_2: 0.6860 - dense_1_acc_3: 0.7207 - dense_1_acc_4: 0.8210 - dense_1_acc_5: 0.7302 - dense_1_acc_6: 0.7112 - dense_1_acc_7: 0.6937 - dense_1_acc_8: 0.7444 - dense_1_acc_9: 0.7487 - dense_1_acc_10: 0.7790 - dense_1_acc_11: 0.6528 - dense_1_acc_12: 0.7633 - dense_1_acc_13: 0.7462 - dense_1_acc_14: 0.7346 - dense_1_acc_15: 0.7362 - dense_1_acc_16: 0.7200 - dense_1_acc_17: 0.7956 - dense_1_acc_18: 0.6691 - dense_1_acc_19: 0.7409 - dense_1_acc_20: 0.7478 - dense_1_acc_21: 0.7666 - dense_1_acc_22: 0.7513 - dense_1_acc_23: 0.6776 - dense_1_acc_24: 0.6830 - dense_1_acc_25: 0.7428 - dense_1_acc_26: 0.7657 - dense_1_acc_27: 0.7922 - dense_1_acc_28: 0.7724 - dense_1_acc_29: 0.8086 - dense_1_acc_30: 0.8413 - dense_1_acc_31: 0.8224 - dense_1_acc_32: 0.9131 - dense_1_acc_33: 0.9361 - dense_1_acc_34: 0.9755 - dense_1_acc_35: 0.9958 - dense_1_acc_36: 0.9998 - dense_1_acc_37: 1.0000 - dense_1_acc_38: 1.0000 - dense_1_acc_39: 1.0000 - dense_1_acc_40: 1.0000 - dense_1_ - ETA: 2s - loss: 33.7817 - dense_1_loss: 2.3469e-05 - dense_1_acc: 0.3562 - dense_1_acc_1: 0.6868 - dense_1_acc_2: 0.6854 - dense_1_acc_3: 0.7221 - dense_1_acc_4: 0.8256 - dense_1_acc_5: 0.7309 - dense_1_acc_6: 0.7138 - dense_1_acc_7: 0.6954 - dense_1_acc_8: 0.7474 - dense_1_acc_9: 0.7493 - dense_1_acc_10: 0.7811 - dense_1_acc_11: 0.6518 - dense_1_acc_12: 0.7653 - dense_1_acc_13: 0.7495 - dense_1_acc_14: 0.7371 - dense_1_acc_15: 0.7384 - dense_1_acc_16: 0.7192 - dense_1_acc_17: 0.7968 - dense_1_acc_18: 0.6700 - dense_1_acc_19: 0.7423 - dense_1_acc_20: 0.7508 - dense_1_acc_21: 0.7654 - dense_1_acc_22: 0.7509 - dense_1_acc_23: 0.6754 - dense_1_acc_24: 0.6843 - dense_1_acc_25: 0.7415 - dense_1_acc_26: 0.7657 - dense_1_acc_27: 0.7912 - dense_1_acc_28: 0.7704 - dense_1_acc_29: 0.8094 - dense_1_acc_30: 0.8403 - dense_1_acc_31: 0.8228 - dense_1_acc_32: 0.9115 - dense_1_acc_33: 0.9357 - dense_1_acc_34: 0.9756 - dense_1_acc_35: 0.9956 - dense_1_acc_36: 0.9998 - dense_1_acc_37: 1.0000 - dense_1_acc_38: 1.0000 - dense_1_acc_39: 1.0000 - dense_\n",
      "Epoch 7/20\n"
     ]
    },
    {
     "name": "stdout",
     "output_type": "stream",
     "text": [
      "15728/15728 [==============================] - 11s 691us/step - loss: 29.8456 - dense_1_loss: 2.6443e-05 - dense_1_acc: 0.3677 - dense_1_acc_1: 0.7423 - dense_1_acc_2: 0.6956 - dense_1_acc_3: 0.7785 - dense_1_acc_4: 0.8529 - dense_1_acc_5: 0.7742 - dense_1_acc_6: 0.7879 - dense_1_acc_7: 0.7618 - dense_1_acc_8: 0.7902 - dense_1_acc_9: 0.8082 - dense_1_acc_10: 0.8228 - dense_1_acc_11: 0.7049 - dense_1_acc_12: 0.8026 - dense_1_acc_13: 0.8089 - dense_1_acc_14: 0.7805 - dense_1_acc_15: 0.7619 - dense_1_acc_16: 0.7645 - dense_1_acc_17: 0.8292 - dense_1_acc_18: 0.7453 - dense_1_acc_19: 0.7803 - dense_1_acc_20: 0.8097 - dense_1_acc_21: 0.7884 - dense_1_acc_22: 0.7771 - dense_1_acc_23: 0.7121 - dense_1_acc_24: 0.7250 - dense_1_acc_25: 0.7660 - dense_1_acc_26: 0.7765 - dense_1_acc_27: 0.8027 - dense_1_acc_28: 0.7740 - dense_1_acc_29: 0.8234 - dense_1_acc_30: 0.8623 - dense_1_acc_31: 0.8399 - dense_1_acc_32: 0.9126 - dense_1_acc_33: 0.9418 - dense_1_acc_34: 0.9763 - dense_1_acc_35: 0.9955 - dense_1_acc_36: 0.9999 - dense_1_acc_37: 1.0000 - dense_1_acc_38: 1.0000 - dense_1_acc_39: 1.0000 - dense_1_acc_40: 1.0000 - dense_1_acc_41: 1.00009s - loss: 31.1560 - dense_1_loss: 2.5531e-05 - dense_1_acc: 0.3800 - dense_1_acc_1: 0.7147 - dense_1_acc_2: 0.6965 - dense_1_acc_3: 0.7394 - dense_1_acc_4: 0.8424 - dense_1_acc_5: 0.7594 - dense_1_acc_6: 0.7729 - dense_1_acc_7: 0.7512 - dense_1_acc_8: 0.7629 - dense_1_acc_9: 0.7788 - dense_1_acc_10: 0.8247 - dense_1_acc_11: 0.6853 - dense_1_acc_12: 0.7894 - dense_1_acc_13: 0.7924 - dense_1_acc_14: 0.7724 - dense_1_acc_15: 0.7653 - dense_1_acc_16: 0.7424 - dense_1_acc_17: 0.8082 - dense_1_acc_18: 0.7306 - dense_1_acc_19: 0.7618 - dense_1_acc_20: 0.8006 - dense_1_acc_21: 0.7888 - dense_1_acc_22: 0.7700 - dense_1_acc_23: 0.6888 - dense_1_acc_24: 0.7135 - dense_1_acc_25: 0.7494 - dense_1_acc_26: 0.7747 - dense_1_acc_27: 0.8018 - dense_1_acc_28: 0.7776 - dense_1_acc_29: 0.8276 - dense_1_acc_30: 0.8506 - dense_1_acc_31: 0.8453 - dense_1_acc_32: 0.9159 - dense_1_acc_33: 0.9482 - dense_1_acc_34: 0.9771 - dense_1_acc_35: 0.9953 - dense_1_acc_36: 1.0000 - dense_1_acc_37: 1.0000 - dense_1_acc_38: 1.0000 - dense_1_acc_39: 1.0 - ETA: 5s - loss: 30.6971 - dense_1_loss: 2.5810e-05 - dense_1_acc: 0.3610 - dense_1_acc_1: 0.7349 - dense_1_acc_2: 0.6987 - dense_1_acc_3: 0.7644 - dense_1_acc_4: 0.8476 - dense_1_acc_5: 0.7581 - dense_1_acc_6: 0.7761 - dense_1_acc_7: 0.7521 - dense_1_acc_8: 0.7783 - dense_1_acc_9: 0.7924 - dense_1_acc_10: 0.8180 - dense_1_acc_11: 0.6939 - dense_1_acc_12: 0.7867 - dense_1_acc_13: 0.7987 - dense_1_acc_14: 0.7733 - dense_1_acc_15: 0.7633 - dense_1_acc_16: 0.7520 - dense_1_acc_17: 0.8161 - dense_1_acc_18: 0.7356 - dense_1_acc_19: 0.7709 - dense_1_acc_20: 0.8104 - dense_1_acc_21: 0.7831 - dense_1_acc_22: 0.7734 - dense_1_acc_23: 0.7019 - dense_1_acc_24: 0.7173 - dense_1_acc_25: 0.7613 - dense_1_acc_26: 0.7734 - dense_1_acc_27: 0.8023 - dense_1_acc_28: 0.7707 - dense_1_acc_29: 0.8194 - dense_1_acc_30: 0.8499 - dense_1_acc_31: 0.8350 - dense_1_acc_32: 0.9140 - dense_1_acc_33: 0.9399 - dense_1_acc_34: 0.9761 - dense_1_acc_35: 0.9959 - dense_1_acc_36: 0.9999 - dense_1_acc_37: 1.0000 - dense_1_acc_38: 1.0000 - dense_1_acc_39: 1.0000 - dense_1_acc_40: 1.0000 - dense_1_acc_4 - ETA: 5s - loss: 30.6686 - dense_1_loss: 2.5857e-05 - dense_1_acc: 0.3584 - dense_1_acc_1: 0.7370 - dense_1_acc_2: 0.6991 - dense_1_acc_3: 0.7649 - dense_1_acc_4: 0.8478 - dense_1_acc_5: 0.7608 - dense_1_acc_6: 0.7743 - dense_1_acc_7: 0.7534 - dense_1_acc_8: 0.7804 - dense_1_acc_9: 0.7953 - dense_1_acc_10: 0.8195 - dense_1_acc_11: 0.6971 - dense_1_acc_12: 0.7900 - dense_1_acc_13: 0.7997 - dense_1_acc_14: 0.7744 - dense_1_acc_15: 0.7629 - dense_1_acc_16: 0.7541 - dense_1_acc_17: 0.8172 - dense_1_acc_18: 0.7353 - dense_1_acc_19: 0.7713 - dense_1_acc_20: 0.8089 - dense_1_acc_21: 0.7839 - dense_1_acc_22: 0.7716 - dense_1_acc_23: 0.7043 - dense_1_acc_24: 0.7161 - dense_1_acc_25: 0.7619 - dense_1_acc_26: 0.7705 - dense_1_acc_27: 0.8014 - dense_1_acc_28: 0.7681 - dense_1_acc_29: 0.8175 - dense_1_acc_30: 0.8516 - dense_1_acc_31: 0.8335 - dense_1_acc_32: 0.9111 - dense_1_acc_33: 0.9387 - dense_1_acc_34: 0.9763 - dense_1_acc_35: 0.9957 - dense_1_acc_36: 0.9997 - dense_1_acc_37: 1.0000 - dense_1_acc_38: 1.0000 - dense_1_acc_39: 1.0000 - dense_1_acc_40: 1.0000 - dense_1_acc_41: 1.0 - ETA: 5s - loss: 30.6505 - dense_1_loss: 2.5880e-05 - dense_1_acc: 0.3593 - dense_1_acc_1: 0.7378 - dense_1_acc_2: 0.6976 - dense_1_acc_3: 0.7663 - dense_1_acc_4: 0.8478 - dense_1_acc_5: 0.7608 - dense_1_acc_6: 0.7742 - dense_1_acc_7: 0.7546 - dense_1_acc_8: 0.7805 - dense_1_acc_9: 0.7973 - dense_1_acc_10: 0.8184 - dense_1_acc_11: 0.6970 - dense_1_acc_12: 0.7913 - dense_1_acc_13: 0.7992 - dense_1_acc_14: 0.7728 - dense_1_acc_15: 0.7623 - dense_1_acc_16: 0.7551 - dense_1_acc_17: 0.8198 - dense_1_acc_18: 0.7343 - dense_1_acc_19: 0.7704 - dense_1_acc_20: 0.8092 - dense_1_acc_21: 0.7848 - dense_1_acc_22: 0.7722 - dense_1_acc_23: 0.7052 - dense_1_acc_24: 0.7161 - dense_1_acc_25: 0.7629 - dense_1_acc_26: 0.7692 - dense_1_acc_27: 0.8010 - dense_1_acc_28: 0.7695 - dense_1_acc_29: 0.8173 - dense_1_acc_30: 0.8529 - dense_1_acc_31: 0.8331 - dense_1_acc_32: 0.9105 - dense_1_acc_33: 0.9381 - dense_1_acc_34: 0.9759 - dense_1_acc_35: 0.9954 - dense_1_acc_36: 0.9998 - dense_1_acc_37: 1.0000 - dense_1_acc_38: 1.0000 - dense_1_acc_39: 1.0000 - dense_1_acc_40: 1.0000 - den - ETA: 3s - loss: 30.4449 - dense_1_loss: 2.5992e-05 - dense_1_acc: 0.3560 - dense_1_acc_1: 0.7416 - dense_1_acc_2: 0.6961 - dense_1_acc_3: 0.7700 - dense_1_acc_4: 0.8466 - dense_1_acc_5: 0.7669 - dense_1_acc_6: 0.7801 - dense_1_acc_7: 0.7543 - dense_1_acc_8: 0.7830 - dense_1_acc_9: 0.8006 - dense_1_acc_10: 0.8202 - dense_1_acc_11: 0.6995 - dense_1_acc_12: 0.7965 - dense_1_acc_13: 0.8023 - dense_1_acc_14: 0.7744 - dense_1_acc_15: 0.7589 - dense_1_acc_16: 0.7581 - dense_1_acc_17: 0.8243 - dense_1_acc_18: 0.7380 - dense_1_acc_19: 0.7732 - dense_1_acc_20: 0.8073 - dense_1_acc_21: 0.7851 - dense_1_acc_22: 0.7720 - dense_1_acc_23: 0.7043 - dense_1_acc_24: 0.7162 - dense_1_acc_25: 0.7642 - dense_1_acc_26: 0.7727 - dense_1_acc_27: 0.7971 - dense_1_acc_28: 0.7697 - dense_1_acc_29: 0.8189 - dense_1_acc_30: 0.8557 - dense_1_acc_31: 0.8345 - dense_1_acc_32: 0.9102 - dense_1_acc_33: 0.9387 - dense_1_acc_34: 0.9757 - dense_1_acc_35: 0.9957 - dense_1_acc_36: 0.9998 - dense_1_acc_37: 1.0000 - dense_1_acc_38: 1.0000 - dense_1_acc_39: 1.0000 - dense_1_acc_40: 1.0000 - dense_1_acc_41: 1.000 - ETA: 3s - loss: 30.4471 - dense_1_loss: 2.5999e-05 - dense_1_acc: 0.3561 - dense_1_acc_1: 0.7417 - dense_1_acc_2: 0.6958 - dense_1_acc_3: 0.7705 - dense_1_acc_4: 0.8462 - dense_1_acc_5: 0.7676 - dense_1_acc_6: 0.7809 - dense_1_acc_7: 0.7537 - dense_1_acc_8: 0.7835 - dense_1_acc_9: 0.8007 - dense_1_acc_10: 0.8198 - dense_1_acc_11: 0.7001 - dense_1_acc_12: 0.7973 - dense_1_acc_13: 0.8024 - dense_1_acc_14: 0.7742 - dense_1_acc_15: 0.7596 - dense_1_acc_16: 0.7577 - dense_1_acc_17: 0.8245 - dense_1_acc_18: 0.7381 - dense_1_acc_19: 0.7730 - dense_1_acc_20: 0.8066 - dense_1_acc_21: 0.7854 - dense_1_acc_22: 0.7719 - dense_1_acc_23: 0.7048 - dense_1_acc_24: 0.7161 - dense_1_acc_25: 0.7638 - dense_1_acc_26: 0.7726 - dense_1_acc_27: 0.7962 - dense_1_acc_28: 0.7694 - dense_1_acc_29: 0.8193 - dense_1_acc_30: 0.8552 - dense_1_acc_31: 0.8344 - dense_1_acc_32: 0.9099 - dense_1_acc_33: 0.9380 - dense_1_acc_34: 0.9755 - dense_1_acc_35: 0.9955 - dense_1_acc_36: 0.9998 - dense_1_acc_37: 1.0000 - dense_1_acc_38: 1.0000 - dense_1_acc_39: 1\n",
      "Epoch 8/20\n"
     ]
    },
    {
     "name": "stdout",
     "output_type": "stream",
     "text": [
      "15728/15728 [==============================] - 11s 700us/step - loss: 27.0789 - dense_1_loss: 2.9023e-05 - dense_1_acc: 0.4440 - dense_1_acc_1: 0.7501 - dense_1_acc_2: 0.7247 - dense_1_acc_3: 0.8077 - dense_1_acc_4: 0.8809 - dense_1_acc_5: 0.8001 - dense_1_acc_6: 0.8304 - dense_1_acc_7: 0.8023 - dense_1_acc_8: 0.8262 - dense_1_acc_9: 0.8487 - dense_1_acc_10: 0.8424 - dense_1_acc_11: 0.7477 - dense_1_acc_12: 0.8293 - dense_1_acc_13: 0.8355 - dense_1_acc_14: 0.8245 - dense_1_acc_15: 0.7866 - dense_1_acc_16: 0.8026 - dense_1_acc_17: 0.8493 - dense_1_acc_18: 0.7846 - dense_1_acc_19: 0.8087 - dense_1_acc_20: 0.8321 - dense_1_acc_21: 0.8072 - dense_1_acc_22: 0.7929 - dense_1_acc_23: 0.7384 - dense_1_acc_24: 0.7538 - dense_1_acc_25: 0.7790 - dense_1_acc_26: 0.7855 - dense_1_acc_27: 0.8148 - dense_1_acc_28: 0.7763 - dense_1_acc_29: 0.8361 - dense_1_acc_30: 0.8713 - dense_1_acc_31: 0.8513 - dense_1_acc_32: 0.9152 - dense_1_acc_33: 0.9446 - dense_1_acc_34: 0.9758 - dense_1_acc_35: 0.9955 - dense_1_acc_36: 0.9999 - dense_1_acc_37: 1.0000 - dense_1_acc_38: 1.0000 - dense_1_acc_39: 1.0000 - dense_1_acc_40: 1.0000 - dense_1_acc_41: 1.0000\n",
      "Epoch 9/20\n",
      "15728/15728 [==============================] - 10s 662us/step - loss: 24.8085 - dense_1_loss: 2.9246e-05 - dense_1_acc: 0.5495 - dense_1_acc_1: 0.7668 - dense_1_acc_2: 0.7487 - dense_1_acc_3: 0.8272 - dense_1_acc_4: 0.8936 - dense_1_acc_5: 0.8191 - dense_1_acc_6: 0.8544 - dense_1_acc_7: 0.8407 - dense_1_acc_8: 0.8526 - dense_1_acc_9: 0.8739 - dense_1_acc_10: 0.8539 - dense_1_acc_11: 0.7876 - dense_1_acc_12: 0.8553 - dense_1_acc_13: 0.8506 - dense_1_acc_14: 0.8646 - dense_1_acc_15: 0.8129 - dense_1_acc_16: 0.8337 - dense_1_acc_17: 0.8685 - dense_1_acc_18: 0.8120 - dense_1_acc_19: 0.8252 - dense_1_acc_20: 0.8474 - dense_1_acc_21: 0.8238 - dense_1_acc_22: 0.8054 - dense_1_acc_23: 0.7554 - dense_1_acc_24: 0.7691 - dense_1_acc_25: 0.7974 - dense_1_acc_26: 0.7961 - dense_1_acc_27: 0.8276 - dense_1_acc_28: 0.7822 - dense_1_acc_29: 0.8461 - dense_1_acc_30: 0.8742 - dense_1_acc_31: 0.8593 - dense_1_acc_32: 0.9166 - dense_1_acc_33: 0.9464 - dense_1_acc_34: 0.9762 - dense_1_acc_35: 0.9955 - dense_1_acc_36: 0.9999 - dense_1_acc_37: 1.0000 - dense_1_acc_38: 1.0000 - dense_1_acc_39: 1.0000 - dense_1_acc_40: 1.0000 - dense_1_acc_41: 1.00009s - loss: 25.5905 - dense_1_loss: 2.7453e-05 - dense_1_acc: 0.4927 - dense_1_acc_1: 0.7618 - dense_1_acc_2: 0.7355 - dense_1_acc_3: 0.8145 - dense_1_acc_4: 0.8782 - dense_1_acc_5: 0.8209 - dense_1_acc_6: 0.8636 - dense_1_acc_7: 0.8418 - dense_1_acc_8: 0.8491 - dense_1_acc_9: 0.8545 - dense_1_acc_10: 0.8609 - dense_1_acc_11: 0.7591 - dense_1_acc_12: 0.8464 - dense_1_acc_13: 0.8364 - dense_1_acc_14: 0.8509 - dense_1_acc_15: 0.8100 - dense_1_acc_16: 0.7982 - dense_1_acc_17: 0.8627 - dense_1_acc_18: 0.8045 - dense_1_acc_19: 0.8200 - dense_1_acc_20: 0.8464 - dense_1_acc_21: 0.8409 - dense_1_acc_22: 0.8082 - dense_1_acc_23: 0.7600 - dense_1_acc_24: 0.7700 - dense_1_acc_25: 0.8036 - dense_1_acc_26: 0.8018 - dense_1_acc_27: 0.8245 - dense_1_acc_28: 0.7736 - dense_1_acc_29: 0.8436 - dense_1_acc_30: 0.8736 - dense_1_acc_31: 0.8391 - dense_1_acc_32: 0.9073 - dense_1_acc_33: 0.9409 - dense_1_acc_34: 0.9709 - dense_1_acc_35: 0.9927 - dense_1_acc_36: 1.0000 - dense_1_acc_37: 1.0000 - dense_1_acc_38: 1.0000 - dense_1_acc_39: 1.0000 - dense_1_acc_40: 1.0000 - de - ETA: 8s - loss: 25.6820 - dense_1_loss: 2.7224e-05 - dense_1_acc: 0.4961 - dense_1_acc_1: 0.7584 - dense_1_acc_2: 0.7423 - dense_1_acc_3: 0.8168 - dense_1_acc_4: 0.8787 - dense_1_acc_5: 0.8200 - dense_1_acc_6: 0.8445 - dense_1_acc_7: 0.8226 - dense_1_acc_8: 0.8442 - dense_1_acc_9: 0.8690 - dense_1_acc_10: 0.8581 - dense_1_acc_11: 0.7677 - dense_1_acc_12: 0.8506 - dense_1_acc_13: 0.8497 - dense_1_acc_14: 0.8548 - dense_1_acc_15: 0.8068 - dense_1_acc_16: 0.8174 - dense_1_acc_17: 0.8584 - dense_1_acc_18: 0.8135 - dense_1_acc_19: 0.8265 - dense_1_acc_20: 0.8426 - dense_1_acc_21: 0.8284 - dense_1_acc_22: 0.7897 - dense_1_acc_23: 0.7574 - dense_1_acc_24: 0.7655 - dense_1_acc_25: 0.7955 - dense_1_acc_26: 0.7974 - dense_1_acc_27: 0.8219 - dense_1_acc_28: 0.7774 - dense_1_acc_29: 0.8358 - dense_1_acc_30: 0.8706 - dense_1_acc_31: 0.8477 - dense_1_acc_32: 0.9110 - dense_1_acc_33: 0.9426 - dense_1_acc_34: 0.9735 - dense_1_acc_35: 0.9952 - dense_1_acc_36: 1.0000 - dense_1_acc_37: 1.0000 - dense_1_acc_38: 1.0000 - dense_1_acc_39: 1.0000 - dense_1_acc_40: - ETA: 6s - loss: 25.4077 - dense_1_loss: 2.8053e-05 - dense_1_acc: 0.5070 - dense_1_acc_1: 0.7651 - dense_1_acc_2: 0.7343 - dense_1_acc_3: 0.8167 - dense_1_acc_4: 0.8860 - dense_1_acc_5: 0.8192 - dense_1_acc_6: 0.8481 - dense_1_acc_7: 0.8310 - dense_1_acc_8: 0.8446 - dense_1_acc_9: 0.8719 - dense_1_acc_10: 0.8581 - dense_1_acc_11: 0.7746 - dense_1_acc_12: 0.8478 - dense_1_acc_13: 0.8525 - dense_1_acc_14: 0.8565 - dense_1_acc_15: 0.8048 - dense_1_acc_16: 0.8225 - dense_1_acc_17: 0.8651 - dense_1_acc_18: 0.7989 - dense_1_acc_19: 0.8225 - dense_1_acc_20: 0.8429 - dense_1_acc_21: 0.8244 - dense_1_acc_22: 0.7987 - dense_1_acc_23: 0.7559 - dense_1_acc_24: 0.7613 - dense_1_acc_25: 0.7922 - dense_1_acc_26: 0.7962 - dense_1_acc_27: 0.8240 - dense_1_acc_28: 0.7816 - dense_1_acc_29: 0.8411 - dense_1_acc_30: 0.8743 - dense_1_acc_31: 0.8567 - dense_1_acc_32: 0.9154 - dense_1_acc_33: 0.9459 - dense_1_acc_34: 0.9773 - dense_1_acc_35: 0.9956 - dense_1_acc_36: 1.0000 - dense_1_acc_37: 1.0000 - dense_1_acc_38: 1.0000 - dense_1_acc_39: 1.0000 - dense_1_acc_40: 1.0000 - dense_1_acc_41: 1.0 - ETA: 6s - loss: 25.3890 - dense_1_loss: 2.8155e-05 - dense_1_acc: 0.5098 - dense_1_acc_1: 0.7656 - dense_1_acc_2: 0.7359 - dense_1_acc_3: 0.8191 - dense_1_acc_4: 0.8880 - dense_1_acc_5: 0.8177 - dense_1_acc_6: 0.8473 - dense_1_acc_7: 0.8298 - dense_1_acc_8: 0.8448 - dense_1_acc_9: 0.8715 - dense_1_acc_10: 0.8580 - dense_1_acc_11: 0.7752 - dense_1_acc_12: 0.8470 - dense_1_acc_13: 0.8526 - dense_1_acc_14: 0.8565 - dense_1_acc_15: 0.8053 - dense_1_acc_16: 0.8241 - dense_1_acc_17: 0.8648 - dense_1_acc_18: 0.8006 - dense_1_acc_19: 0.8223 - dense_1_acc_20: 0.8438 - dense_1_acc_21: 0.8235 - dense_1_acc_22: 0.7997 - dense_1_acc_23: 0.7577 - dense_1_acc_24: 0.7612 - dense_1_acc_25: 0.7935 - dense_1_acc_26: 0.7955 - dense_1_acc_27: 0.8242 - dense_1_acc_28: 0.7815 - dense_1_acc_29: 0.8417 - dense_1_acc_30: 0.8735 - dense_1_acc_31: 0.8555 - dense_1_acc_32: 0.9158 - dense_1_acc_33: 0.9461 - dense_1_acc_34: 0.9767 - dense_1_acc_35: 0.9956 - dense_1_acc_36: 1.0000 - dense_1_acc_37: 1.0000 - dense_1 - ETA: 0s - loss: 24.8127 - dense_1_loss: 2.9234e-05 - dense_1_acc: 0.5494 - dense_1_acc_1: 0.7667 - dense_1_acc_2: 0.7483 - dense_1_acc_3: 0.8274 - dense_1_acc_4: 0.8935 - dense_1_acc_5: 0.8195 - dense_1_acc_6: 0.8544 - dense_1_acc_7: 0.8407 - dense_1_acc_8: 0.8525 - dense_1_acc_9: 0.8735 - dense_1_acc_10: 0.8542 - dense_1_acc_11: 0.7876 - dense_1_acc_12: 0.8552 - dense_1_acc_13: 0.8506 - dense_1_acc_14: 0.8642 - dense_1_acc_15: 0.8129 - dense_1_acc_16: 0.8339 - dense_1_acc_17: 0.8684 - dense_1_acc_18: 0.8120 - dense_1_acc_19: 0.8247 - dense_1_acc_20: 0.8477 - dense_1_acc_21: 0.8240 - dense_1_acc_22: 0.8056 - dense_1_acc_23: 0.7561 - dense_1_acc_24: 0.7689 - dense_1_acc_25: 0.7971 - dense_1_acc_26: 0.7962 - dense_1_acc_27: 0.8276 - dense_1_acc_28: 0.7826 - dense_1_acc_29: 0.8459 - dense_1_acc_30: 0.8743 - dense_1_acc_31: 0.8594 - dense_1_acc_32: 0.9169 - dense_1_acc_33: 0.9464 - dense_1_acc_34: 0.9761 - dense_1_acc_35: 0.9955 - dense_1_acc_36: 0.9999 - dense_1_acc_37: 1.0000 - dense_1_acc_38: 1.0000 - dense_1_acc_39: 1.0000 - dense_1_acc_40: 1.0000 - dense_1_acc_41: 1.00\n",
      "Epoch 10/20\n"
     ]
    },
    {
     "name": "stdout",
     "output_type": "stream",
     "text": [
      "15728/15728 [==============================] - 10s 661us/step - loss: 22.9255 - dense_1_loss: 3.3407e-05 - dense_1_acc: 0.6467 - dense_1_acc_1: 0.7688 - dense_1_acc_2: 0.7733 - dense_1_acc_3: 0.8430 - dense_1_acc_4: 0.9042 - dense_1_acc_5: 0.8273 - dense_1_acc_6: 0.8730 - dense_1_acc_7: 0.8725 - dense_1_acc_8: 0.8720 - dense_1_acc_9: 0.8808 - dense_1_acc_10: 0.8642 - dense_1_acc_11: 0.8308 - dense_1_acc_12: 0.8756 - dense_1_acc_13: 0.8644 - dense_1_acc_14: 0.8905 - dense_1_acc_15: 0.8332 - dense_1_acc_16: 0.8587 - dense_1_acc_17: 0.8861 - dense_1_acc_18: 0.8431 - dense_1_acc_19: 0.8391 - dense_1_acc_20: 0.8573 - dense_1_acc_21: 0.8374 - dense_1_acc_22: 0.8168 - dense_1_acc_23: 0.7696 - dense_1_acc_24: 0.7790 - dense_1_acc_25: 0.8156 - dense_1_acc_26: 0.8053 - dense_1_acc_27: 0.8377 - dense_1_acc_28: 0.7891 - dense_1_acc_29: 0.8585 - dense_1_acc_30: 0.8747 - dense_1_acc_31: 0.8657 - dense_1_acc_32: 0.9181 - dense_1_acc_33: 0.9472 - dense_1_acc_34: 0.9765 - dense_1_acc_35: 0.9955 - dense_1_acc_36: 0.9999 - dense_1_acc_37: 1.0000 - dense_1_acc_38: 1.0000 - dense_1_acc_39: 1.0000 - dense_1_acc_40: 1.0000 - dense_1_acc_41: 1.00005s - loss: 23.2765 - dense_1_loss: 3.1663e-05 - dense_1_acc: 0.6263 - dense_1_acc_1: 0.7716 - dense_1_acc_2: 0.7684 - dense_1_acc_3: 0.8340 - dense_1_acc_4: 0.8993 - dense_1_acc_5: 0.8237 - dense_1_acc_6: 0.8720 - dense_1_acc_7: 0.8659 - dense_1_acc_8: 0.8723 - dense_1_acc_9: 0.8797 - dense_1_acc_10: 0.8647 - dense_1_acc_11: 0.8221 - dense_1_acc_12: 0.8796 - dense_1_acc_13: 0.8592 - dense_1_acc_14: 0.8857 - dense_1_acc_15: 0.8296 - dense_1_acc_16: 0.8579 - dense_1_acc_17: 0.8807 - dense_1_acc_18: 0.8367 - dense_1_acc_19: 0.8389 - dense_1_acc_20: 0.8557 - dense_1_acc_21: 0.8333 - dense_1_acc_22: 0.8145 - dense_1_acc_23: 0.7664 - dense_1_acc_24: 0.7767 - dense_1_acc_25: 0.8059 - dense_1_acc_26: 0.8087 - dense_1_acc_27: 0.8424 - dense_1_acc_28: 0.7931 - dense_1_acc_29: 0.8593 - dense_1_acc_30: 0.8763 - dense_1_acc_31: 0.8648 - dense_1_acc_32: 0.9217 - dense_1_acc_33: 0.9457 - dense_1_acc_34: 0.9792 - dense_1_acc_35: 0.9949 - dense_1_acc_36: 0.9997 - dense_1_acc_37: 1.0000 - dense_1_acc_38\n",
      "Epoch 11/20\n",
      "15728/15728 [==============================] - 10s 654us/step - loss: 21.3212 - dense_1_loss: 4.2160e-05 - dense_1_acc: 0.6829 - dense_1_acc_1: 0.7733 - dense_1_acc_2: 0.7882 - dense_1_acc_3: 0.8566 - dense_1_acc_4: 0.9135 - dense_1_acc_5: 0.8359 - dense_1_acc_6: 0.8873 - dense_1_acc_7: 0.8969 - dense_1_acc_8: 0.8870 - dense_1_acc_9: 0.8857 - dense_1_acc_10: 0.8753 - dense_1_acc_11: 0.8648 - dense_1_acc_12: 0.8910 - dense_1_acc_13: 0.8723 - dense_1_acc_14: 0.9083 - dense_1_acc_15: 0.8484 - dense_1_acc_16: 0.8791 - dense_1_acc_17: 0.9001 - dense_1_acc_18: 0.8654 - dense_1_acc_19: 0.8506 - dense_1_acc_20: 0.8650 - dense_1_acc_21: 0.8506 - dense_1_acc_22: 0.8243 - dense_1_acc_23: 0.7808 - dense_1_acc_24: 0.7869 - dense_1_acc_25: 0.8300 - dense_1_acc_26: 0.8171 - dense_1_acc_27: 0.8451 - dense_1_acc_28: 0.7970 - dense_1_acc_29: 0.8651 - dense_1_acc_30: 0.8764 - dense_1_acc_31: 0.8713 - dense_1_acc_32: 0.9187 - dense_1_acc_33: 0.9474 - dense_1_acc_34: 0.9765 - dense_1_acc_35: 0.9955 - dense_1_acc_36: 0.9999 - dense_1_acc_37: 1.0000 - dense_1_acc_38: 1.0000 - dense_1_acc_39: 1.0000 - dense_1_acc_40: 1.0000 - dense_1_acc_41: 1.00008s - loss: 21.7100 - dense_1_loss: 3.7836e-05 - dense_1_acc: 0.6609 - dense_1_acc_1: 0.7687 - dense_1_acc_2: 0.7830 - dense_1_acc_3: 0.8491 - dense_1_acc_4: 0.9104 - dense_1_acc_5: 0.8274 - dense_1_acc_6: 0.8830 - dense_1_acc_7: 0.8896 - dense_1_acc_8: 0.8848 - dense_1_acc_9: 0.8726 - dense_1_acc_10: 0.8722 - dense_1_acc_11: 0.8478 - dense_1_acc_12: 0.8922 - dense_1_acc_13: 0.8717 - dense_1_acc_14: 0.8987 - dense_1_acc_15: 0.8435 - dense_1_acc_16: 0.8843 - dense_1_acc_17: 0.8904 - dense_1_acc_18: 0.8465 - dense_1_acc_19: 0.8443 - dense_1_acc_20: 0.8622 - dense_1_acc_21: 0.8522 - dense_1_acc_22: 0.8326 - dense_1_acc_23: 0.7830 - dense_1_acc_24: 0.7870 - dense_1_acc_25: 0.8265 - dense_1_acc_26: 0.8183 - dense_1_acc_27: 0.8452 - dense_1_acc_28: 0.7943 - dense_1_acc_29: 0.8561 - dense_1_acc_30: 0.8817 - dense_1_acc_31: 0.8783 - dense_1_acc_32: 0.9252 - dense_1_acc_33: 0.9561 - dense_1_acc_34: 0.9787 - dense_1_acc_35: 0.9970 - dense_1_acc_36: 1.0000 - dense_1_ - ETA: 1s - loss: 21.3900 - dense_1_loss: 4.1264e-05 - dense_1_acc: 0.6796 - dense_1_acc_1: 0.7728 - dense_1_acc_2: 0.7888 - dense_1_acc_3: 0.8572 - dense_1_acc_4: 0.9130 - dense_1_acc_5: 0.8362 - dense_1_acc_6: 0.8874 - dense_1_acc_7: 0.8972 - dense_1_acc_8: 0.8866 - dense_1_acc_9: 0.8855 - dense_1_acc_10: 0.8736 - dense_1_acc_11: 0.8626 - dense_1_acc_12: 0.8921 - dense_1_acc_13: 0.8721 - dense_1_acc_14: 0.9066 - dense_1_acc_15: 0.8459 - dense_1_acc_16: 0.8792 - dense_1_acc_17: 0.8983 - dense_1_acc_18: 0.8627 - dense_1_acc_19: 0.8500 - dense_1_acc_20: 0.8650 - dense_1_acc_21: 0.8492 - dense_1_acc_22: 0.8261 - dense_1_acc_23: 0.7809 - dense_1_acc_24: 0.7850 - dense_1_acc_25: 0.8292 - dense_1_acc_26: 0.8174 - dense_1_acc_27: 0.8438 - dense_1_acc_28: 0.7979 - dense_1_acc_29: 0.8642 - dense_1_acc_30: 0.8769 - dense_1_acc_31: 0.8715 - dense_1_acc_32: 0.9193 - dense_1_acc_33: 0.9474 - dense_1_acc_34: 0.9766 - dense_1_acc_35: 0.9956 - dense_1_acc_36: 0.9999 - dense_1_acc_37: 1.0000 - dense_1_acc_38: 1.0000 - dense_1_acc_39: 1.0000 - dense_1_acc_40: 1.0000 - d\n",
      "Epoch 12/20\n"
     ]
    },
    {
     "name": "stdout",
     "output_type": "stream",
     "text": [
      "15728/15728 [==============================] - 10s 658us/step - loss: 19.9394 - dense_1_loss: 5.6026e-05 - dense_1_acc: 0.6993 - dense_1_acc_1: 0.7802 - dense_1_acc_2: 0.8019 - dense_1_acc_3: 0.8726 - dense_1_acc_4: 0.9187 - dense_1_acc_5: 0.8434 - dense_1_acc_6: 0.9014 - dense_1_acc_7: 0.9158 - dense_1_acc_8: 0.8980 - dense_1_acc_9: 0.8953 - dense_1_acc_10: 0.8845 - dense_1_acc_11: 0.8892 - dense_1_acc_12: 0.9009 - dense_1_acc_13: 0.8818 - dense_1_acc_14: 0.9246 - dense_1_acc_15: 0.8646 - dense_1_acc_16: 0.8918 - dense_1_acc_17: 0.9125 - dense_1_acc_18: 0.8877 - dense_1_acc_19: 0.8672 - dense_1_acc_20: 0.8767 - dense_1_acc_21: 0.8655 - dense_1_acc_22: 0.8312 - dense_1_acc_23: 0.7898 - dense_1_acc_24: 0.7967 - dense_1_acc_25: 0.8435 - dense_1_acc_26: 0.8311 - dense_1_acc_27: 0.8540 - dense_1_acc_28: 0.8048 - dense_1_acc_29: 0.8751 - dense_1_acc_30: 0.8764 - dense_1_acc_31: 0.8758 - dense_1_acc_32: 0.9194 - dense_1_acc_33: 0.9483 - dense_1_acc_34: 0.9762 - dense_1_acc_35: 0.9955 - dense_1_acc_36: 0.9999 - dense_1_acc_37: 1.0000 - dense_1_acc_38: 1.0000 - dense_1_acc_39: 1.0000 - dense_1_acc_40: 1.0000 - dense_1_acc_41: 1.00006s - loss: 20.1852 - dense_1_loss: 5.0752e-05 - dense_1_acc: 0.6985 - dense_1_acc_1: 0.7879 - dense_1_acc_2: 0.7927 - dense_1_acc_3: 0.8726 - dense_1_acc_4: 0.9221 - dense_1_acc_5: 0.8481 - dense_1_acc_6: 0.8977 - dense_1_acc_7: 0.9103 - dense_1_acc_8: 0.8953 - dense_1_acc_9: 0.8924 - dense_1_acc_10: 0.8805 - dense_1_acc_11: 0.8781 - dense_1_acc_12: 0.8985 - dense_1_acc_13: 0.8798 - dense_1_acc_14: 0.9215 - dense_1_acc_15: 0.8677 - dense_1_acc_16: 0.8839 - dense_1_acc_17: 0.9152 - dense_1_acc_18: 0.8827 - dense_1_acc_19: 0.8663 - dense_1_acc_20: 0.8694 - dense_1_acc_21: 0.8598 - dense_1_acc_22: 0.8334 - dense_1_acc_23: 0.7866 - dense_1_acc_24: 0.7953 - dense_1_acc_25: 0.8450 - dense_1_acc_26: 0.8247 - dense_1_acc_27: 0.8497 - dense_1_acc_28: 0.8106 - dense_1_acc_29: 0.8739 - dense_1_acc_30: 0.8781 - dense_1_acc_31: 0.8813 - dense_1_acc_32: 0.9216 - dense_1_acc_33: 0.9519 - dense_1_acc_34: 0.9774 - dense_1_acc_35: 0.9952 - dense_1_acc_36: 0.9997 - dense_1_acc_37: 1.0000 - dense_1_acc_38: 1.0000 - dense_1_acc_39: 1.0000 - dense_1_acc_40: 1.0000 - - ETA: 4s - loss: 20.1971 - dense_1_loss: 5.1855e-05 - dense_1_acc: 0.7025 - dense_1_acc_1: 0.7835 - dense_1_acc_2: 0.7934 - dense_1_acc_3: 0.8741 - dense_1_acc_4: 0.9188 - dense_1_acc_5: 0.8461 - dense_1_acc_6: 0.8978 - dense_1_acc_7: 0.9118 - dense_1_acc_8: 0.8935 - dense_1_acc_9: 0.8909 - dense_1_acc_10: 0.8816 - dense_1_acc_11: 0.8795 - dense_1_acc_12: 0.9014 - dense_1_acc_13: 0.8812 - dense_1_acc_14: 0.9205 - dense_1_acc_15: 0.8655 - dense_1_acc_16: 0.8871 - dense_1_acc_17: 0.9140 - dense_1_acc_18: 0.8852 - dense_1_acc_19: 0.8659 - dense_1_acc_20: 0.8734 - dense_1_acc_21: 0.8579 - dense_1_acc_22: 0.8307 - dense_1_acc_23: 0.7901 - dense_1_acc_24: 0.7946 - dense_1_acc_25: 0.8432 - dense_1_acc_26: 0.8258 - dense_1_acc_27: 0.8504 - dense_1_acc_28: 0.8014 - dense_1_acc_29: 0.8735 - dense_1_acc_30: 0.8782 - dense_1_acc_31: 0.8740 - dense_1_acc_32: 0.9195 - dense_1_acc_33: 0.9504 - dense_1_acc_34: 0.9754 - dense_1_acc_35: 0.9956 - dense_1_acc_36: 0.9998 - dense_1_acc_37: 1.0000 - dense_1_acc_38: 1.0000 - dense_1_acc_39: 1.0000 - ETA: 1s - loss: 19.9969 - dense_1_loss: 5.5401e-05 - dense_1_acc: 0.7015 - dense_1_acc_1: 0.7809 - dense_1_acc_2: 0.7994 - dense_1_acc_3: 0.8731 - dense_1_acc_4: 0.9193 - dense_1_acc_5: 0.8454 - dense_1_acc_6: 0.9010 - dense_1_acc_7: 0.9147 - dense_1_acc_8: 0.8983 - dense_1_acc_9: 0.8957 - dense_1_acc_10: 0.8843 - dense_1_acc_11: 0.8865 - dense_1_acc_12: 0.9030 - dense_1_acc_13: 0.8817 - dense_1_acc_14: 0.9235 - dense_1_acc_15: 0.8658 - dense_1_acc_16: 0.8916 - dense_1_acc_17: 0.9124 - dense_1_acc_18: 0.8863 - dense_1_acc_19: 0.8667 - dense_1_acc_20: 0.8760 - dense_1_acc_21: 0.8651 - dense_1_acc_22: 0.8314 - dense_1_acc_23: 0.7883 - dense_1_acc_24: 0.7950 - dense_1_acc_25: 0.8443 - dense_1_acc_26: 0.8296 - dense_1_acc_27: 0.8531 - dense_1_acc_28: 0.8044 - dense_1_acc_29: 0.8746 - dense_1_acc_30: 0.8765 - dense_1_acc_31: 0.8740 - dense_1_acc_32: 0.9188 - dense_1_acc_33: 0.9493 - dense_1_acc_34: 0.9765 - dense_1_acc_35: 0.9957 - dense_1_acc_36: 0.9999 - dense_1_acc_37: 1.0000 - dense_1_acc_38: 1.0000 - dense_1_acc_39: 1.0000 - dense_1_acc_40: 1.0000 - \n",
      "Epoch 13/20\n",
      "15728/15728 [==============================] - 12s 753us/step - loss: 18.7348 - dense_1_loss: 7.0111e-05 - dense_1_acc: 0.7295 - dense_1_acc_1: 0.7871 - dense_1_acc_2: 0.8189 - dense_1_acc_3: 0.8842 - dense_1_acc_4: 0.9238 - dense_1_acc_5: 0.8529 - dense_1_acc_6: 0.9128 - dense_1_acc_7: 0.9313 - dense_1_acc_8: 0.9088 - dense_1_acc_9: 0.9065 - dense_1_acc_10: 0.8963 - dense_1_acc_11: 0.9068 - dense_1_acc_12: 0.9083 - dense_1_acc_13: 0.8900 - dense_1_acc_14: 0.9355 - dense_1_acc_15: 0.8815 - dense_1_acc_16: 0.9090 - dense_1_acc_17: 0.9266 - dense_1_acc_18: 0.9001 - dense_1_acc_19: 0.8800 - dense_1_acc_20: 0.8865 - dense_1_acc_21: 0.8757 - dense_1_acc_22: 0.8383 - dense_1_acc_23: 0.8019 - dense_1_acc_24: 0.8030 - dense_1_acc_25: 0.8541 - dense_1_acc_26: 0.8421 - dense_1_acc_27: 0.8590 - dense_1_acc_28: 0.8164 - dense_1_acc_29: 0.8832 - dense_1_acc_30: 0.8740 - dense_1_acc_31: 0.8792 - dense_1_acc_32: 0.9214 - dense_1_acc_33: 0.9488 - dense_1_acc_34: 0.9766 - dense_1_acc_35: 0.9955 - dense_1_acc_36: 0.9999 - dense_1_acc_37: 1.0000 - dense_1_acc_38: 1.0000 - dense_1_acc_39: 1.0000 - dense_1_acc_40: 1.0000 - dense_1_acc_41: 1.0000\n",
      "Epoch 14/20\n",
      "15728/15728 [==============================] - 10s 655us/step - loss: 17.6714 - dense_1_loss: 7.5403e-05 - dense_1_acc: 0.7618 - dense_1_acc_1: 0.7964 - dense_1_acc_2: 0.8354 - dense_1_acc_3: 0.8941 - dense_1_acc_4: 0.9283 - dense_1_acc_5: 0.8649 - dense_1_acc_6: 0.9264 - dense_1_acc_7: 0.9443 - dense_1_acc_8: 0.9186 - dense_1_acc_9: 0.9163 - dense_1_acc_10: 0.9078 - dense_1_acc_11: 0.9193 - dense_1_acc_12: 0.9153 - dense_1_acc_13: 0.8983 - dense_1_acc_14: 0.9459 - dense_1_acc_15: 0.8947 - dense_1_acc_16: 0.9212 - dense_1_acc_17: 0.9357 - dense_1_acc_18: 0.9098 - dense_1_acc_19: 0.8943 - dense_1_acc_20: 0.8954 - dense_1_acc_21: 0.8850 - dense_1_acc_22: 0.8445 - dense_1_acc_23: 0.8126 - dense_1_acc_24: 0.8082 - dense_1_acc_25: 0.8624 - dense_1_acc_26: 0.8538 - dense_1_acc_27: 0.8642 - dense_1_acc_28: 0.8244 - dense_1_acc_29: 0.8899 - dense_1_acc_30: 0.8731 - dense_1_acc_31: 0.8835 - dense_1_acc_32: 0.9256 - dense_1_acc_33: 0.9499 - dense_1_acc_34: 0.9763 - dense_1_acc_35: 0.9955 - dense_1_acc_36: 0.9999 - dense_1_acc_37: 1.0000 - dense_1_acc_38: 1.0000 - dense_1_acc_39: 1.0000 - dense_1_acc_40: 1.0000 - dense_1_acc_41: 1.0000\n",
      "Epoch 15/20\n",
      "15728/15728 [==============================] - 10s 652us/step - loss: 16.7222 - dense_1_loss: 8.6800e-05 - dense_1_acc: 0.8247 - dense_1_acc_1: 0.8177 - dense_1_acc_2: 0.8458 - dense_1_acc_3: 0.9040 - dense_1_acc_4: 0.9318 - dense_1_acc_5: 0.8763 - dense_1_acc_6: 0.9381 - dense_1_acc_7: 0.9556 - dense_1_acc_8: 0.9277 - dense_1_acc_9: 0.9265 - dense_1_acc_10: 0.9200 - dense_1_acc_11: 0.9281 - dense_1_acc_12: 0.9236 - dense_1_acc_13: 0.9090 - dense_1_acc_14: 0.9524 - dense_1_acc_15: 0.9049 - dense_1_acc_16: 0.9296 - dense_1_acc_17: 0.9432 - dense_1_acc_18: 0.9158 - dense_1_acc_19: 0.9080 - dense_1_acc_20: 0.9020 - dense_1_acc_21: 0.8917 - dense_1_acc_22: 0.8513 - dense_1_acc_23: 0.8253 - dense_1_acc_24: 0.8128 - dense_1_acc_25: 0.8672 - dense_1_acc_26: 0.8625 - dense_1_acc_27: 0.8728 - dense_1_acc_28: 0.8316 - dense_1_acc_29: 0.8958 - dense_1_acc_30: 0.8739 - dense_1_acc_31: 0.8871 - dense_1_acc_32: 0.9284 - dense_1_acc_33: 0.9505 - dense_1_acc_34: 0.9757 - dense_1_acc_35: 0.9955 - dense_1_acc_36: 0.9999 - dense_1_acc_37: 1.0000 - dense_1_acc_38: 1.0000 - dense_1_acc_39: 1.0000 - dense_1_acc_40: 1.0000 - dense_1_acc_41: 1.0000\n",
      "Epoch 16/20\n"
     ]
    },
    {
     "name": "stdout",
     "output_type": "stream",
     "text": [
      "15728/15728 [==============================] - 10s 649us/step - loss: 15.8750 - dense_1_loss: 8.6412e-05 - dense_1_acc: 0.8247 - dense_1_acc_1: 0.8245 - dense_1_acc_2: 0.8644 - dense_1_acc_3: 0.9135 - dense_1_acc_4: 0.9344 - dense_1_acc_5: 0.8857 - dense_1_acc_6: 0.9455 - dense_1_acc_7: 0.9626 - dense_1_acc_8: 0.9369 - dense_1_acc_9: 0.9329 - dense_1_acc_10: 0.9283 - dense_1_acc_11: 0.9350 - dense_1_acc_12: 0.9284 - dense_1_acc_13: 0.9156 - dense_1_acc_14: 0.9570 - dense_1_acc_15: 0.9141 - dense_1_acc_16: 0.9376 - dense_1_acc_17: 0.9502 - dense_1_acc_18: 0.9217 - dense_1_acc_19: 0.9173 - dense_1_acc_20: 0.9074 - dense_1_acc_21: 0.8989 - dense_1_acc_22: 0.8587 - dense_1_acc_23: 0.8402 - dense_1_acc_24: 0.8180 - dense_1_acc_25: 0.8724 - dense_1_acc_26: 0.8681 - dense_1_acc_27: 0.8786 - dense_1_acc_28: 0.8372 - dense_1_acc_29: 0.9004 - dense_1_acc_30: 0.8742 - dense_1_acc_31: 0.8910 - dense_1_acc_32: 0.9303 - dense_1_acc_33: 0.9515 - dense_1_acc_34: 0.9757 - dense_1_acc_35: 0.9955 - dense_1_acc_36: 0.9999 - dense_1_acc_37: 1.0000 - dense_1_acc_38: 1.0000 - dense_1_acc_39: 1.0000 - dense_1_acc_40: 1.0000 - dense_1_acc_41: 1.000010s - loss: 16.2716 - dense_1_loss: 9.0730e-05 - dense_1_acc: 0.8029 - dense_1_acc_1: 0.8257 - dense_1_acc_2: 0.8529 - dense_1_acc_3: 0.9214 - dense_1_acc_4: 0.9229 - dense_1_acc_5: 0.8686 - dense_1_acc_6: 0.9343 - dense_1_acc_7: 0.9529 - dense_1_acc_8: 0.9371 - dense_1_acc_9: 0.9400 - dense_1_acc_10: 0.9286 - dense_1_acc_11: 0.9286 - dense_1_acc_12: 0.9329 - dense_1_acc_13: 0.9329 - dense_1_acc_14: 0.9657 - dense_1_acc_15: 0.9100 - dense_1_acc_16: 0.9329 - dense_1_acc_17: 0.9471 - dense_1_acc_18: 0.9143 - dense_1_acc_19: 0.9214 - dense_1_acc_20: 0.9157 - dense_1_acc_21: 0.9071 - dense_1_acc_22: 0.8300 - dense_1_acc_23: 0.8214 - dense_1_acc_24: 0.8071 - dense_1_acc_25: 0.8800 - dense_1_acc_26: 0.8600 - dense_1_acc_27: 0.8743 - dense_1_acc_28: 0.8286 - dense_1_acc_29: 0.8871 - dense_1_acc_30: 0.8643 - dense_1_acc_31: 0.8843 - dense_1_acc_32: 0.9386 - dense_1_acc_33: 0.9400 - dense_1_acc_34: 0.9786 - dense_1_acc_35: 0.\n",
      "Epoch 17/20\n",
      "15728/15728 [==============================] - 10s 651us/step - loss: 15.1063 - dense_1_loss: 8.7308e-05 - dense_1_acc: 0.8578 - dense_1_acc_1: 0.8311 - dense_1_acc_2: 0.8789 - dense_1_acc_3: 0.9182 - dense_1_acc_4: 0.9379 - dense_1_acc_5: 0.8960 - dense_1_acc_6: 0.9522 - dense_1_acc_7: 0.9681 - dense_1_acc_8: 0.9449 - dense_1_acc_9: 0.9379 - dense_1_acc_10: 0.9390 - dense_1_acc_11: 0.9400 - dense_1_acc_12: 0.9330 - dense_1_acc_13: 0.9229 - dense_1_acc_14: 0.9620 - dense_1_acc_15: 0.9208 - dense_1_acc_16: 0.9454 - dense_1_acc_17: 0.9545 - dense_1_acc_18: 0.9254 - dense_1_acc_19: 0.9278 - dense_1_acc_20: 0.9137 - dense_1_acc_21: 0.9066 - dense_1_acc_22: 0.8669 - dense_1_acc_23: 0.8538 - dense_1_acc_24: 0.8239 - dense_1_acc_25: 0.8773 - dense_1_acc_26: 0.8771 - dense_1_acc_27: 0.8802 - dense_1_acc_28: 0.8395 - dense_1_acc_29: 0.9030 - dense_1_acc_30: 0.8767 - dense_1_acc_31: 0.8938 - dense_1_acc_32: 0.9332 - dense_1_acc_33: 0.9524 - dense_1_acc_34: 0.9756 - dense_1_acc_35: 0.9955 - dense_1_acc_36: 0.9999 - dense_1_acc_37: 1.0000 - dense_1_acc_38: 1.0000 - dense_1_acc_39: 1.0000 - dense_1_acc_40: 1.0000 - dense_1_acc_41: 1.00001s - loss: 15.1585 - dense_1_loss: 8.8400e-05 - dense_1_acc: 0.8553 - dense_1_acc_1: 0.8301 - dense_1_acc_2: 0.8773 - dense_1_acc_3: 0.9169 - dense_1_acc_4: 0.9404 - dense_1_acc_5: 0.8960 - dense_1_acc_6: 0.9509 - dense_1_acc_7: 0.9678 - dense_1_acc_8: 0.9447 - dense_1_acc_9: 0.9385 - dense_1_acc_10: 0.9395 - dense_1_acc_11: 0.9387 - dense_1_acc_12: 0.9347 - dense_1_acc_13: 0.9226 - dense_1_acc_14: 0.9616 - dense_1_acc_15: 0.9211 - dense_1_acc_16: 0.9458 - dense_1_acc_17: 0.9549 - dense_1_acc_18: 0.9242 - dense_1_acc_19: 0.9274 - dense_1_acc_20: 0.9121 - dense_1_acc_21: 0.9069 - dense_1_acc_22: 0.8655 - dense_1_acc_23: 0.8520 - dense_1_acc_24: 0.8216 - dense_1_acc_25: 0.8789 - dense_1_acc_26: 0.8781 - dense_1_acc_27: 0.8801 - dense_1_acc_28: 0.8398 - dense_1_acc_29: 0.9015 - dense_1_acc_30: 0.8778 - dense_1_acc_31: 0.8935 - dense_1_acc_32: 0.9333 - dense_1_acc_33: 0.9516 - dense_1_acc_34: 0.9754 - dense_1_acc_35: 0.9956 - dense_1_acc_36: 0.9999 - dense_1_acc_37: 1.0000 - dense_1_acc_38: 1.0000 - dense_1_acc_39: 1.0000 - dense_1_acc_40: 1.00\n",
      "Epoch 18/20\n",
      "15728/15728 [==============================] - 10s 657us/step - loss: 14.4068 - dense_1_loss: 8.2945e-05 - dense_1_acc: 0.8651 - dense_1_acc_1: 0.8327 - dense_1_acc_2: 0.8866 - dense_1_acc_3: 0.9252 - dense_1_acc_4: 0.9411 - dense_1_acc_5: 0.9065 - dense_1_acc_6: 0.9557 - dense_1_acc_7: 0.9718 - dense_1_acc_8: 0.9537 - dense_1_acc_9: 0.9410 - dense_1_acc_10: 0.9461 - dense_1_acc_11: 0.9462 - dense_1_acc_12: 0.9375 - dense_1_acc_13: 0.9304 - dense_1_acc_14: 0.9665 - dense_1_acc_15: 0.9287 - dense_1_acc_16: 0.9526 - dense_1_acc_17: 0.9589 - dense_1_acc_18: 0.9297 - dense_1_acc_19: 0.9355 - dense_1_acc_20: 0.9186 - dense_1_acc_21: 0.9126 - dense_1_acc_22: 0.8756 - dense_1_acc_23: 0.8634 - dense_1_acc_24: 0.8305 - dense_1_acc_25: 0.8822 - dense_1_acc_26: 0.8824 - dense_1_acc_27: 0.8872 - dense_1_acc_28: 0.8433 - dense_1_acc_29: 0.9044 - dense_1_acc_30: 0.8783 - dense_1_acc_31: 0.8981 - dense_1_acc_32: 0.9367 - dense_1_acc_33: 0.9526 - dense_1_acc_34: 0.9749 - dense_1_acc_35: 0.9955 - dense_1_acc_36: 0.9999 - dense_1_acc_37: 1.0000 - dense_1_acc_38: 1.0000 - dense_1_acc_39: 1.0000 - dense_1_acc_40: 1.0000 - dense_1_acc_41: 1.0000\n",
      "Epoch 19/20\n"
     ]
    },
    {
     "name": "stdout",
     "output_type": "stream",
     "text": [
      "15728/15728 [==============================] - 11s 671us/step - loss: 13.7722 - dense_1_loss: 8.6201e-05 - dense_1_acc: 0.8651 - dense_1_acc_1: 0.8405 - dense_1_acc_2: 0.8961 - dense_1_acc_3: 0.9306 - dense_1_acc_4: 0.9454 - dense_1_acc_5: 0.9162 - dense_1_acc_6: 0.9607 - dense_1_acc_7: 0.9744 - dense_1_acc_8: 0.9587 - dense_1_acc_9: 0.9454 - dense_1_acc_10: 0.9528 - dense_1_acc_11: 0.9500 - dense_1_acc_12: 0.9407 - dense_1_acc_13: 0.9355 - dense_1_acc_14: 0.9715 - dense_1_acc_15: 0.9338 - dense_1_acc_16: 0.9583 - dense_1_acc_17: 0.9643 - dense_1_acc_18: 0.9336 - dense_1_acc_19: 0.9423 - dense_1_acc_20: 0.9242 - dense_1_acc_21: 0.9200 - dense_1_acc_22: 0.8809 - dense_1_acc_23: 0.8739 - dense_1_acc_24: 0.8367 - dense_1_acc_25: 0.8857 - dense_1_acc_26: 0.8890 - dense_1_acc_27: 0.8901 - dense_1_acc_28: 0.8468 - dense_1_acc_29: 0.9082 - dense_1_acc_30: 0.8800 - dense_1_acc_31: 0.9022 - dense_1_acc_32: 0.9411 - dense_1_acc_33: 0.9531 - dense_1_acc_34: 0.9753 - dense_1_acc_35: 0.9955 - dense_1_acc_36: 0.9999 - dense_1_acc_37: 1.0000 - dense_1_acc_38: 1.0000 - dense_1_acc_39: 1.0000 - dense_1_acc_40: 1.0000 - dense_1_acc_41: 1.00007s - loss: 14.0789 - dense_1_loss: 9.1572e-05 - dense_1_acc: 0.8666 - dense_1_acc_1: 0.8393 - dense_1_acc_2: 0.8977 - dense_1_acc_3: 0.9311 - dense_1_acc_4: 0.9468 - dense_1_acc_5: 0.9116 - dense_1_acc_6: 0.9589 - dense_1_acc_7: 0.9745 - dense_1_acc_8: 0.9580 - dense_1_acc_9: 0.9414 - dense_1_acc_10: 0.9489 - dense_1_acc_11: 0.9461 - dense_1_acc_12: 0.9402 - dense_1_acc_13: 0.9318 - dense_1_acc_14: 0.9734 - dense_1_acc_15: 0.9339 - dense_1_acc_16: 0.9543 - dense_1_acc_17: 0.9634 - dense_1_acc_18: 0.9348 - dense_1_acc_19: 0.9391 - dense_1_acc_20: 0.9214 - dense_1_acc_21: 0.9202 - dense_1_acc_22: 0.8700 - dense_1_acc_23: 0.8689 - dense_1_acc_24: 0.8334 - dense_1_acc_25: 0.8825 - dense_1_acc_26: 0.8843 - dense_1_acc_27: 0.8859 - dense_1_acc_28: 0.8445 - dense_1_acc_29: 0.9018 - dense_1_acc_30: 0.8734 - dense_1_acc_31: 0.8995 - dense_1_acc_32: 0.9409 - dense_1_acc_33: 0.9527 - dense_1_acc_34: 0.9748 - dense_1_acc_35: 0.9945 - dense_1_acc_36: 0.9998 - dense_1_acc_37: 1.0000 - dense_1_acc_38: 1.0000 - de - ETA: 2s - loss: 13.8559 - dense_1_loss: 8.7102e-05 - dense_1_acc: 0.8663 - dense_1_acc_1: 0.8372 - dense_1_acc_2: 0.8968 - dense_1_acc_3: 0.9308 - dense_1_acc_4: 0.9448 - dense_1_acc_5: 0.9147 - dense_1_acc_6: 0.9605 - dense_1_acc_7: 0.9745 - dense_1_acc_8: 0.9586 - dense_1_acc_9: 0.9454 - dense_1_acc_10: 0.9511 - dense_1_acc_11: 0.9483 - dense_1_acc_12: 0.9386 - dense_1_acc_13: 0.9348 - dense_1_acc_14: 0.9715 - dense_1_acc_15: 0.9334 - dense_1_acc_16: 0.9582 - dense_1_acc_17: 0.9649 - dense_1_acc_18: 0.9358 - dense_1_acc_19: 0.9423 - dense_1_acc_20: 0.9237 - dense_1_acc_21: 0.9198 - dense_1_acc_22: 0.8811 - dense_1_acc_23: 0.8719 - dense_1_acc_24: 0.8348 - dense_1_acc_25: 0.8878 - dense_1_acc_26: 0.8882 - dense_1_acc_27: 0.8873 - dense_1_acc_28: 0.8435 - dense_1_acc_29: 0.9065 - dense_1_acc_30: 0.8792 - dense_1_acc_31: 0.9014 - dense_1_acc_32: 0.9389 - dense_1_acc_33: 0.9525 - dense_1_acc_34: 0.9754 - dense_1_acc_35: 0.9957 - dense_1_acc_36: 0.9998 - dense_1_acc_37: 1.0000 - dense_1_acc_38: 1.0000 - dense_1_acc_39: 1.0000 - dens\n",
      "Epoch 20/20\n",
      "15728/15728 [==============================] - 10s 660us/step - loss: 13.1938 - dense_1_loss: 8.0415e-05 - dense_1_acc: 0.8651 - dense_1_acc_1: 0.8410 - dense_1_acc_2: 0.9016 - dense_1_acc_3: 0.9376 - dense_1_acc_4: 0.9489 - dense_1_acc_5: 0.9233 - dense_1_acc_6: 0.9638 - dense_1_acc_7: 0.9767 - dense_1_acc_8: 0.9630 - dense_1_acc_9: 0.9500 - dense_1_acc_10: 0.9575 - dense_1_acc_11: 0.9548 - dense_1_acc_12: 0.9446 - dense_1_acc_13: 0.9400 - dense_1_acc_14: 0.9745 - dense_1_acc_15: 0.9398 - dense_1_acc_16: 0.9624 - dense_1_acc_17: 0.9678 - dense_1_acc_18: 0.9374 - dense_1_acc_19: 0.9485 - dense_1_acc_20: 0.9283 - dense_1_acc_21: 0.9263 - dense_1_acc_22: 0.8895 - dense_1_acc_23: 0.8850 - dense_1_acc_24: 0.8451 - dense_1_acc_25: 0.8894 - dense_1_acc_26: 0.8932 - dense_1_acc_27: 0.8939 - dense_1_acc_28: 0.8526 - dense_1_acc_29: 0.9104 - dense_1_acc_30: 0.8812 - dense_1_acc_31: 0.9035 - dense_1_acc_32: 0.9442 - dense_1_acc_33: 0.9535 - dense_1_acc_34: 0.9754 - dense_1_acc_35: 0.9955 - dense_1_acc_36: 0.9999 - dense_1_acc_37: 1.0000 - dense_1_acc_38: 1.0000 - dense_1_acc_39: 1.0000 - dense_1_acc_40: 1.0000 - dense_1_acc_41: 1.0000\n"
     ]
    }
   ],
   "source": [
    "plain, cipher = generate_data(1 << 14)\n",
    "\n",
    "X_train, X_test, y_train, y_test = train_test_split(cipher, plain, test_size=0.04, random_state=42)\n",
    "m = len(X_train)\n",
    "Tx = 42\n",
    "Ty = 42\n",
    "X, Y, Xoh, Yoh, human_vocab, inv_machine_vocab = prepare_dataset(X_train, y_train, m, Tx, Ty)\n",
    "\n",
    "model = DeCryptModel(Xoh=Xoh, Yoh=Yoh, Tx=Tx, Ty=Ty, m=m)\n",
    "model.train(epochs=20)\n",
    "\n"
   ]
  },
  {
   "cell_type": "code",
   "execution_count": 3,
   "metadata": {},
   "outputs": [
    {
     "name": "stdout",
     "output_type": "stream",
     "text": [
      "0.933837890625\n",
      "0.9314024390243902\n"
     ]
    }
   ],
   "source": [
    "predicts = model.predict(cipher, plain, human_vocab, inv_machine_vocab)\n",
    "train_score = score(predicts, plain)\n",
    "print(train_score)\n",
    "\n",
    "predicts_test = model.predict(X_test, y_test, human_vocab, inv_machine_vocab)\n",
    "test_score = score(predicts_test, y_test)\n",
    "\n",
    "print(test_score)\n"
   ]
  },
  {
   "cell_type": "code",
   "execution_count": 8,
   "metadata": {},
   "outputs": [
    {
     "name": "stdout",
     "output_type": "stream",
     "text": [
      "0\n",
      "0.92633056640625\n",
      "1\n",
      "0.92156982421875\n"
     ]
    },
    {
     "ename": "KeyboardInterrupt",
     "evalue": "",
     "output_type": "error",
     "traceback": [
      "\u001b[0;31m---------------------------------------------------------------------------\u001b[0m",
      "\u001b[0;31mKeyboardInterrupt\u001b[0m                         Traceback (most recent call last)",
      "\u001b[0;32m<ipython-input-8-6e7e090a86b3>\u001b[0m in \u001b[0;36m<module>\u001b[0;34m\u001b[0m\n\u001b[1;32m      1\u001b[0m \u001b[0;32mfor\u001b[0m \u001b[0mi\u001b[0m \u001b[0;32min\u001b[0m \u001b[0mrange\u001b[0m\u001b[0;34m(\u001b[0m\u001b[0;36m20\u001b[0m\u001b[0;34m)\u001b[0m\u001b[0;34m:\u001b[0m\u001b[0;34m\u001b[0m\u001b[0;34m\u001b[0m\u001b[0m\n\u001b[1;32m      2\u001b[0m     \u001b[0mplain_1\u001b[0m\u001b[0;34m,\u001b[0m \u001b[0mcipher_1\u001b[0m \u001b[0;34m=\u001b[0m \u001b[0mgenerate_data\u001b[0m\u001b[0;34m(\u001b[0m\u001b[0;36m1\u001b[0m \u001b[0;34m<<\u001b[0m \u001b[0;36m14\u001b[0m\u001b[0;34m)\u001b[0m\u001b[0;34m\u001b[0m\u001b[0;34m\u001b[0m\u001b[0m\n\u001b[0;32m----> 3\u001b[0;31m     \u001b[0mpredicts\u001b[0m \u001b[0;34m=\u001b[0m \u001b[0mmodel\u001b[0m\u001b[0;34m.\u001b[0m\u001b[0mpredict\u001b[0m\u001b[0;34m(\u001b[0m\u001b[0mcipher_1\u001b[0m\u001b[0;34m,\u001b[0m \u001b[0mplain_1\u001b[0m\u001b[0;34m,\u001b[0m \u001b[0mhuman_vocab\u001b[0m\u001b[0;34m,\u001b[0m \u001b[0minv_machine_vocab\u001b[0m\u001b[0;34m)\u001b[0m\u001b[0;34m\u001b[0m\u001b[0;34m\u001b[0m\u001b[0m\n\u001b[0m\u001b[1;32m      4\u001b[0m     \u001b[0mtrain_score\u001b[0m \u001b[0;34m=\u001b[0m \u001b[0mscore\u001b[0m\u001b[0;34m(\u001b[0m\u001b[0mpredicts\u001b[0m\u001b[0;34m,\u001b[0m \u001b[0mplain_1\u001b[0m\u001b[0;34m)\u001b[0m\u001b[0;34m\u001b[0m\u001b[0;34m\u001b[0m\u001b[0m\n\u001b[1;32m      5\u001b[0m     \u001b[0mprint\u001b[0m\u001b[0;34m(\u001b[0m\u001b[0mi\u001b[0m\u001b[0;34m)\u001b[0m\u001b[0;34m\u001b[0m\u001b[0;34m\u001b[0m\u001b[0m\n",
      "\u001b[0;32m~/Documents/learn/nlp_takehome/model.py\u001b[0m in \u001b[0;36mpredict\u001b[0;34m(self, test_cipher, test_plain, human_vocab, inv_machine_vocab)\u001b[0m\n",
      "\u001b[0;31mKeyboardInterrupt\u001b[0m: "
     ]
    }
   ],
   "source": [
    "for i in range(20):\n",
    "    plain_1, cipher_1 = generate_data(1 << 14)\n",
    "    predicts = model.predict(cipher_1, plain_1, human_vocab, inv_machine_vocab)\n",
    "    train_score = score(predicts, plain_1)\n",
    "    print(i)\n",
    "    print(train_score)"
   ]
  },
  {
   "cell_type": "code",
   "execution_count": null,
   "metadata": {},
   "outputs": [],
   "source": []
  },
  {
   "cell_type": "code",
   "execution_count": 6,
   "metadata": {},
   "outputs": [
    {
     "name": "stdout",
     "output_type": "stream",
     "text": [
      "0.92901611328125\n"
     ]
    }
   ],
   "source": [
    "\n"
   ]
  },
  {
   "cell_type": "code",
   "execution_count": null,
   "metadata": {},
   "outputs": [],
   "source": []
  }
 ],
 "metadata": {
  "kernelspec": {
   "display_name": "Python 3",
   "language": "python",
   "name": "python3"
  },
  "language_info": {
   "codemirror_mode": {
    "name": "ipython",
    "version": 3
   },
   "file_extension": ".py",
   "mimetype": "text/x-python",
   "name": "python",
   "nbconvert_exporter": "python",
   "pygments_lexer": "ipython3",
   "version": "3.7.3"
  }
 },
 "nbformat": 4,
 "nbformat_minor": 2
}
